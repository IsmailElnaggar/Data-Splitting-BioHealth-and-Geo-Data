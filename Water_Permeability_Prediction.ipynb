{
 "cells": [
  {
   "cell_type": "markdown",
   "metadata": {},
   "source": [
    "# Exercise 4 | TKO_2096 Applications of Data Analysis 2020\n",
    "## deadline: 12.2.2020, 23:59 pm\n",
    "\n",
    "********************************************\n",
    "\n",
    "Student name: Ismail Elnaggar\n",
    "\n",
    "Student number: 519208\n",
    "\n",
    "Student email: imelna@utu.fi\n",
    "\n",
    "********************************************"
   ]
  },
  {
   "cell_type": "markdown",
   "metadata": {},
   "source": [
    "## Water permability prediction in forestry <br>\n",
    "\n",
    "In this task, the client wants you to estimate the spatial prediction performance of K-nearest neighbor regression model with K=5 (5NN), using spatial leave-one-out cross-validation (i.e. SKCV, with number of folds == number of data points). The client wants you to use the C-index as the performance measure.  \n",
    "\n",
    "In other words, the client wants you to answer the question: \"What happens to the prediction performance of water permeability using 5-nearest neighbor regression model, when the geographical distance between known data and unknown data increases?\".\n",
    "\n",
    "In this task, you have three data files available (with 1691 data points): \n",
    "\n",
    "- input.csv, contains the 95 predictor features. \n",
    "- output.csv, contains the water permebility values. \n",
    "- coordinates.csv, contains the corresponding geographical coordinate locations of the data points. The unit of the coordinates is metre, and you can use Euclidean distance to calculate distances between the coordinate points. \n",
    "\n",
    "Implement the following tasks to complete this exercise:\n",
    "\n",
    "********************************************\n",
    "\n",
    "#### 1. Z-score standardize the predictor features (input.csv). \n",
    "\n",
    "#### 2. Perform spatial leave-one-out cross-validation with 5NN model for the provided data set (check the end of the lecture slides for the pseudocode). Estimate the water permeability prediction performance (using 5NN model and C-index) with the following distance parameter values: d = 0, 10, 20, ..., 250 (that is, 10 meter intervals). \n",
    "\n",
    "#### 3. When you have calculated the C-index performance measure for each value of d, visualize the results with the C-index (y-axis) as a function of d (x-axis).\n",
    "\n",
    "********************************************\n",
    "\n",
    "Your .ipynb-file must include the following: \n",
    "\n",
    "- Your own implementation of the spatial leave-one-out cross-validation for the current task. Remember to also take advantage of earlier exercises (e.g. C-index). For the 5-nearest neighbor and Euclidean distance you can use third-party libraries if you want.  \n",
    "\n",
    "\n",
    "- Plot of the graph C-index vs. distance parameter value. \n",
    "\n",
    "<br><br><br>\n",
    "-- START IMPLEMENTING YOUR EXERCISE AFTER THIS LINE --\n",
    "<br><br><br>"
   ]
  },
  {
   "cell_type": "markdown",
   "metadata": {},
   "source": [
    "### Import necessary libraries"
   ]
  },
  {
   "cell_type": "code",
   "execution_count": 1,
   "metadata": {},
   "outputs": [],
   "source": [
    "# In this cell, import all the libraries that you need. For example: \n",
    "import numpy as np\n",
    "import pandas as pd\n",
    "import matplotlib.pyplot as plt\n",
    "from sklearn.neighbors import KNeighborsRegressor\n",
    "from scipy.spatial.distance import cdist"
   ]
  },
  {
   "cell_type": "markdown",
   "metadata": {},
   "source": [
    "### Read in the datasets"
   ]
  },
  {
   "cell_type": "code",
   "execution_count": 2,
   "metadata": {},
   "outputs": [
    {
     "name": "stdout",
     "output_type": "stream",
     "text": [
      "The dimensions of the input dataset are: (1691, 95) \n",
      "\n",
      "The dimensions of the output dataset are: (1691, 1) \n",
      "\n",
      "The dimensions of the coordinate dataset are: (1691, 2) \n",
      "\n"
     ]
    }
   ],
   "source": [
    "# In this cell, read the files input.csv, output.csv and coordinates.csv.\n",
    "# Print out the dataset dimesions (i.e. number of rows and columns).\n",
    "#\n",
    "# Note that the coordinates are in EUREF-TM35FIN format, so you \n",
    "# can use the Euclidean distance to calculate the distance between two coordinate points.\n",
    "\n",
    "inputdf=pd.read_csv(\"C:/Users/imelna/anaconda/envs/emgEnv/ADA exercises/Exercise 4 data/input.csv\",header=None)\n",
    "outputdf=pd.read_csv(\"C:/Users/imelna/anaconda/envs/emgEnv/ADA exercises/Exercise 4 data/output.csv\",header=None)\n",
    "coordf=pd.read_csv(\"C:/Users/imelna/anaconda/envs/emgEnv/ADA exercises/Exercise 4 data/coordinates.csv\",header=None)\n",
    "\n",
    "print (\"The dimensions of the input dataset are:\",inputdf.shape,\"\\n\")\n",
    "print (\"The dimensions of the output dataset are:\",outputdf.shape,\"\\n\")\n",
    "print (\"The dimensions of the coordinate dataset are:\",coordf.shape,\"\\n\")"
   ]
  },
  {
   "cell_type": "markdown",
   "metadata": {},
   "source": [
    "### Standardization of the predictor features (input.csv)"
   ]
  },
  {
   "cell_type": "code",
   "execution_count": 3,
   "metadata": {},
   "outputs": [
    {
     "name": "stdout",
     "output_type": "stream",
     "text": [
      "       0_ZS      1_ZS      2_ZS      3_ZS      4_ZS      5_ZS      6_ZS  \\\n",
      "0 -0.272641  0.247478  0.186771  0.175840  0.231291 -0.486200  0.277516   \n",
      "1 -0.272641 -0.150684 -0.140341 -0.113494 -0.168647 -0.467791 -0.145221   \n",
      "2  3.667832 -0.578123 -0.595346 -0.574620 -0.621910 -0.467791 -0.629077   \n",
      "3 -0.272641 -0.507859 -0.474831 -0.502287 -0.461935 -0.688698 -0.481374   \n",
      "4 -0.272641 -0.821119 -0.853593 -0.809704 -0.915198 -0.651880 -0.924484   \n",
      "\n",
      "       7_ZS      8_ZS      9_ZS  ...     85_ZS     86_ZS     87_ZS     88_ZS  \\\n",
      "0  0.255260  0.662867  0.225630  ...  0.219541  0.539119 -0.645254 -0.519918   \n",
      "1 -0.110611  2.080623  2.030569  ...  0.219541 -0.169259 -0.645254  2.475438   \n",
      "2 -0.606892 -0.500419 -0.341832  ... -1.047724 -0.877636 -0.645254 -0.519918   \n",
      "3 -0.453540  0.817366  1.032383  ... -1.047724 -0.877636 -0.645254 -0.519918   \n",
      "4 -0.854429  0.926424  0.355530  ... -1.047724 -0.877636  2.098494  0.977760   \n",
      "\n",
      "      89_ZS     90_ZS     91_ZS     92_ZS     93_ZS     94_ZS  \n",
      "0 -0.447089  0.554097  0.087285 -0.109193 -0.913639 -0.461479  \n",
      "1 -0.447089 -0.288927 -0.035919 -1.481978 -1.087664 -0.461479  \n",
      "2 -0.447089 -0.375320 -0.159124  0.349947  0.134707 -0.809315  \n",
      "3 -0.447089 -0.383278  0.703308  0.467238  0.107450 -0.832933  \n",
      "4  1.960643 -0.296657  0.087285 -0.333328 -0.636876 -0.542584  \n",
      "\n",
      "[5 rows x 95 columns]\n"
     ]
    }
   ],
   "source": [
    "# Standardize the predictor features (input.csv) by removing the mean and scaling to unit variance. \n",
    "# In other words, z-score the predictor features. You are allowed to use third-party libraries for doing this.\n",
    "\n",
    "cols = list(inputdf.columns)\n",
    "for col in cols:\n",
    "    col_zscore = str(col) + \"_ZS\" #add ZS to each feature name to indicate z score feature\n",
    "    inputdf[col_zscore] = (inputdf[col] - (inputdf[col].mean()))/(inputdf[col].std(ddof=0))\n",
    "\n",
    "inputZSDF=inputdf.copy() #copy just to keep original features somewhere\n",
    "inputZSDF.drop(cols,inplace=True,axis=1) #drop original columns from z-score dataframe\n",
    "\n",
    "print (inputZSDF.head())"
   ]
  },
  {
   "cell_type": "markdown",
   "metadata": {},
   "source": [
    "### Functions"
   ]
  },
  {
   "cell_type": "code",
   "execution_count": 4,
   "metadata": {},
   "outputs": [],
   "source": [
    "# Include here all the functions (for example the C-index-function) that you need in order to implement the task.\n",
    "\n",
    "def cindex(true_labels, pred_labels):\n",
    "    \"\"\"\n",
    "    Returns C-index between true labels and predicted labels\n",
    "    Inputs:\n",
    "    ------\n",
    "    true_labels: the true labels associated with the dataset (list)\n",
    "    pred_labels: the predictions a model returns based on some input data (list)\n",
    "    \n",
    "    Outputs:\n",
    "    ------\n",
    "    C-Index score    \n",
    "    \"\"\" \n",
    "    n = 0\n",
    "    n_sum = 0\n",
    "    for i in range(len(true_labels)):\n",
    "        t = true_labels[i]\n",
    "        p = pred_labels[i]\n",
    "        for j in range(i+1,len(true_labels)):\n",
    "            nt = true_labels[j]\n",
    "            np = pred_labels[j]\n",
    "            if t != nt:\n",
    "                n += 1\n",
    "                if (p < np and t < nt) or (p > np and t > nt):\n",
    "                        n_sum +=  1\n",
    "                elif p == np:\n",
    "                    n_sum += 0.5     \n",
    "    return (n_sum/n)\n",
    "\n",
    "    \n",
    "def d_check(p1,p2,d):\n",
    "    \"\"\"\n",
    "    Function to check if the distance between two points is smaller or larger than a predefined distance threshold\n",
    "    Inputs:\n",
    "    ------\n",
    "    p1: one pair of x and y coordinates (x,y)\n",
    "    p2: array of x and y coordinates to check against p1 [(x0,y0),(x1,y1),....]\n",
    "    d: threshold  distance value to compare to the distance between p1 and p2\n",
    "    \n",
    "    Outputs:\n",
    "    ------\n",
    "    array of indexes where the distance between p1 and a (x,y) coordinate in p2 is less than the d threshold value    \n",
    "    \"\"\"\n",
    "    \n",
    "    removed_coord=[]\n",
    "    for i in range(len(p2)):\n",
    "        distance = np.sqrt(np.sum((p1 - p2[i]) ** 2, axis=0))\n",
    "        if d>= distance:\n",
    "            removed_coord.append(i)\n",
    "    return np.array(removed_coord)"
   ]
  },
  {
   "cell_type": "markdown",
   "metadata": {},
   "source": [
    "### Testing d_check function and comparing results to a distance matrix"
   ]
  },
  {
   "cell_type": "code",
   "execution_count": 5,
   "metadata": {},
   "outputs": [
    {
     "name": "stdout",
     "output_type": "stream",
     "text": [
      "you can see for each index the corresponding distance value is either 20 or smaller, so these coordinates are too close to the test coordinate \n",
      " [(775, 20.0), (776, 20.0), (786, 10.0), (787, 10.0), (797, 0.0), (798, 0.0), (808, 10.0), (809, 10.0)]\n"
     ]
    }
   ],
   "source": [
    "#test values\n",
    "mycoordinates=np.array(coordf[[0,1]])\n",
    "test_coordinate=mycoordinates[797] #pick random coordinate\n",
    "d=20 # pick random distance value to check against\n",
    "\n",
    "#test function for d_check\n",
    "removedcoor=d_check(test_coordinate,mycoordinates,d) #get list of which indexes are selected by d_check function\n",
    "\n",
    "#get the distances\n",
    "distancelist=[]\n",
    "for i in range(len(mycoordinates)):\n",
    "    distance = np.sqrt(np.sum((test_coordinate - mycoordinates[i]) ** 2, axis=0))\n",
    "    if d>= distance:\n",
    "        distancelist.append(distance) \n",
    "\n",
    "        \n",
    "zippedlist=[(x,y) for x,y in zip(removedcoor,distancelist)]\n",
    "print (\"you can see for each index the corresponding distance value is either 20 or smaller, so these coordinates are too close to the test coordinate \\n\",zippedlist)\n"
   ]
  },
  {
   "cell_type": "code",
   "execution_count": 6,
   "metadata": {},
   "outputs": [
    {
     "name": "stdout",
     "output_type": "stream",
     "text": [
      "indicies from using my d_check function: [775 776 786 787 797 798 808 809]\n",
      "indicies from using my distance matrix: [775, 776, 786, 787, 797, 798, 808, 809]\n"
     ]
    }
   ],
   "source": [
    "#create a distance matrix and convert it to a dataframe to use pandas iloc/conditional statement\n",
    "dist_matrix=cdist(mycoordinates,mycoordinates,'euclidean')\n",
    "dist_df=pd.DataFrame(dist_matrix)\n",
    "\n",
    "coordinate_index=797\n",
    "distance_thresh=20\n",
    "\n",
    "dmatrix_indices=list(dist_df[dist_df.iloc[:,coordinate_index]<= distance_thresh ].index)\n",
    "\n",
    "#compare the two lists, should be the same\n",
    "\n",
    "print (\"indicies from using my d_check function:\",removedcoor)\n",
    "\n",
    "print (\"indicies from using my distance matrix:\",dmatrix_indices)"
   ]
  },
  {
   "cell_type": "markdown",
   "metadata": {},
   "source": [
    "### Results for spatial leave-one-out cross-validation with 5-nearest neighbor regression model"
   ]
  },
  {
   "cell_type": "markdown",
   "metadata": {},
   "source": [
    "### I decided not to use my d_check function\n",
    "1. When using my d_check function the runtime of the entire LOOCV cell took 21 minutes. I felt that it was too slow maybe because I was calling my function in every loop which called the np.sqrt and np.sum functions within my function\n",
    "\n",
    "\n",
    "2. So instead of calculating distances for every single test data point repeatedly, I create a distance matrix outside the loops at the top of the cell and then for each loop I just check which indices in the corresponding column of the distance matrix contain distance values less than or equal to the threshold distance.\n",
    "\n",
    "\n",
    "3. This reduced the runtime of the entire cell to 10 minutes on my laptop and produced the same results as my d_check function. There's probably an even better way but this is hopefully good enough haha.\n"
   ]
  },
  {
   "cell_type": "code",
   "execution_count": 8,
   "metadata": {},
   "outputs": [
    {
     "name": "stdout",
     "output_type": "stream",
     "text": [
      "for distance = 0 the C-index = 0.7184301631321142\n",
      "for distance = 10 the C-index = 0.7073291858513374\n",
      "for distance = 20 the C-index = 0.7077663093616526\n",
      "for distance = 30 the C-index = 0.7032620823178115\n",
      "for distance = 40 the C-index = 0.6976267238205365\n",
      "for distance = 50 the C-index = 0.693692612227699\n",
      "for distance = 60 the C-index = 0.6926395260447217\n",
      "for distance = 70 the C-index = 0.6867941802726755\n",
      "for distance = 80 the C-index = 0.6855605050333949\n",
      "for distance = 90 the C-index = 0.6845609656054843\n",
      "for distance = 100 the C-index = 0.6828460695281866\n",
      "for distance = 110 the C-index = 0.647957733761334\n",
      "for distance = 120 the C-index = 0.6285237614600555\n",
      "for distance = 130 the C-index = 0.6174322336066435\n",
      "for distance = 140 the C-index = 0.6171721993647185\n",
      "for distance = 150 the C-index = 0.6142005294479155\n",
      "for distance = 160 the C-index = 0.6154699025239071\n",
      "for distance = 170 the C-index = 0.6144322154077463\n",
      "for distance = 180 the C-index = 0.6138467008899261\n",
      "for distance = 190 the C-index = 0.6126301746114186\n",
      "for distance = 200 the C-index = 0.6111095167632842\n",
      "for distance = 210 the C-index = 0.6105698494671223\n",
      "for distance = 220 the C-index = 0.6087510096888129\n",
      "for distance = 230 the C-index = 0.607781918415744\n",
      "for distance = 240 the C-index = 0.6074917859977685\n",
      "for distance = 250 the C-index = 0.6085872196144914\n"
     ]
    }
   ],
   "source": [
    "# In this cell, run your script for the Spatial leave-One-Out cross-validation \n",
    "# with 5-nearest neighbor regression model and visualize the results as \n",
    "# requested in the task assignment.\n",
    "\n",
    "#constants\n",
    "k=5\n",
    "d=list(range(0,260,10))\n",
    "knn = KNeighborsRegressor(n_neighbors=k)\n",
    "\n",
    "#to save values\n",
    "c_index_loo=[]\n",
    "test_list=[]\n",
    "pred_list=[]\n",
    "\n",
    "#coordinates\n",
    "mycoordinates=np.array(coordf[[0,1]])\n",
    "\n",
    "#distance matrix where the diag contains 0's \n",
    "dist_matrix=cdist(mycoordinates,mycoordinates,'euclidean')\n",
    "dist_df=pd.DataFrame(dist_matrix) # convert to pandas df so i can use pandas indexing/conditional statements\n",
    "\n",
    "for dis in d:\n",
    "    \n",
    "    \n",
    "    for i in range(len(inputZSDF)):\n",
    "        #set x test and y test\n",
    "        xtest=inputZSDF.iloc[i,:]\n",
    "        ytest=outputdf.iloc[i,:]        \n",
    "        #check which coordinates are too close to the test coordinate, this removes the test coordinate itself as well\n",
    "        removedcoor=list(dist_df[dist_df.iloc[:,i]<= dis ].index)\n",
    "        #set x train and y train by removing indexes that contain coordinates that are too close to the test coordinate\n",
    "        xtrain=inputZSDF.drop(removedcoor, axis=0)\n",
    "        ytrain=outputdf.drop(removedcoor, axis=0)\n",
    "        \n",
    "        #train regressor\n",
    "        knn.fit(xtrain,ytrain)\n",
    "        #get predictions\n",
    "        ypred=knn.predict(np.array(xtest).reshape(1, -1))\n",
    "        #append true and predicted values to lists\n",
    "        test_list.append(ytest.values)\n",
    "        pred_list.append(ypred.flatten())\n",
    "    #calculate c-index score    \n",
    "    c_index_score=cindex(test_list,pred_list)\n",
    "    print (\"for distance = {0} the C-index = {1}\".format(dis,c_index_score))\n",
    "    #append c-index score for distance = dis\n",
    "    c_index_loo.append(c_index_score)\n",
    "    #clear test and pred list for next dis value\n",
    "    test_list=[]\n",
    "    pred_list=[]\n",
    "    \n",
    "    \n"
   ]
  },
  {
   "cell_type": "markdown",
   "metadata": {},
   "source": [
    "### Interpretation of the results"
   ]
  },
  {
   "cell_type": "code",
   "execution_count": 9,
   "metadata": {},
   "outputs": [
    {
     "data": {
      "image/png": "[encoded data removed]",
      "text/plain": [
       "<Figure size 864x576 with 1 Axes>"
      ]
     },
     "metadata": {
      "needs_background": "light"
     },
     "output_type": "display_data"
    }
   ],
   "source": [
    "plt.figure(figsize=(12,8))\n",
    "plt.plot(d,c_index_loo) #distance vs the cindex scores\n",
    "plt.xlabel(\"Distance\",fontsize=14)\n",
    "plt.ylabel(\"C-Index Score\",fontsize=14)\n",
    "plt.title(\"Distance vs C-Index Score\",fontsize=20)\n",
    "plt.xticks(np.arange(0, 260, step=10))\n",
    "plt.show()"
   ]
  },
  {
   "attachments": {},
   "cell_type": "markdown",
   "metadata": {},
   "source": [
    "# In this cell, give a brief commentary on the results, what happens to the prediction  performance as the prediction distance increases?\n",
    "\n",
    "1. As distance increases the prediction performance decreases. This is due to the fact that as data samples that are close to test data are removed from the training dataset, the performance of the model decreases because those data samples will  exhibit similar soil/enviornmental properties to that of the test data. Removing samples close to the test sample will then better reflect the way the model is used in the application.\n",
    "\n",
    "\n",
    "2. From 100 to 130 meters there is a significant decrease in prediction performance of almost 9 percent. I'm not a soil expert but depending on where this data was gathered, this could have been in a region where two areas of different soil/enviornmental conditions meet. This also probably depends on how evenly distributed by distance the dataset is."
   ]
  }
 ],
 "metadata": {
  "kernelspec": {
   "display_name": "Python 3",
   "language": "python",
   "name": "python3"
  },
  "language_info": {
   "codemirror_mode": {
    "name": "ipython",
    "version": 3
   },
   "file_extension": ".py",
   "mimetype": "text/x-python",
   "name": "python",
   "nbconvert_exporter": "python",
   "pygments_lexer": "ipython3",
   "version": "3.7.3"
  },
  "toc": {
   "base_numbering": 1,
   "nav_menu": {},
   "number_sections": false,
   "sideBar": true,
   "skip_h1_title": false,
   "title_cell": "Table of Contents",
   "title_sidebar": "Contents",
   "toc_cell": false,
   "toc_position": {
    "height": "calc(100% - 180px)",
    "left": "10px",
    "top": "150px",
    "width": "165px"
   },
   "toc_section_display": true,
   "toc_window_display": true
  },
  "varInspector": {
   "cols": {
    "lenName": 16,
    "lenType": 16,
    "lenVar": 40
   },
   "kernels_config": {
    "python": {
     "delete_cmd_postfix": "",
     "delete_cmd_prefix": "del ",
     "library": "var_list.py",
     "varRefreshCmd": "print(var_dic_list())"
    },
    "r": {
     "delete_cmd_postfix": ") ",
     "delete_cmd_prefix": "rm(",
     "library": "var_list.r",
     "varRefreshCmd": "cat(var_dic_list()) "
    }
   },
   "types_to_exclude": [
    "module",
    "function",
    "builtin_function_or_method",
    "instance",
    "_Feature"
   ],
   "window_display": false
  }
 },
 "nbformat": 4,
 "nbformat_minor": 2
}
