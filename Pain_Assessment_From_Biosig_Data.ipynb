{
 "cells": [
  {
   "cell_type": "markdown",
   "metadata": {},
   "source": [
    "Ismail Elnaggar <br>\n",
    "student number519208 <br>\n",
    "imelna@utu.fi  <br>\n",
    "February, 03, 2020  <br>"
   ]
  },
  {
   "cell_type": "markdown",
   "metadata": {},
   "source": [
    "# Exercise 3 | TKO_2096 Application of Data Analysis 2020\n",
    "## Pain assessment from biosignal data"
   ]
  },
  {
   "cell_type": "markdown",
   "metadata": {},
   "source": [
    "# ¤¤¤¤ Instructions ¤¤¤¤\n",
    "K-Nearest Neighbor Classification with euclidean distance for pain intensity level prediction using biosignal features."
   ]
  },
  {
   "cell_type": "markdown",
   "metadata": {},
   "source": [
    "## Remember\n",
    "Follow the general guidelines in Moodle -- except that no pdf is needed for this exercise, especially\n",
    "- document in detail all the steps of your work: explain at each step what you are doing and why, include the code you wrote, the resulting plots and/or numbers, and analysis of the results\n",
    "- The code should be runnable as is, so the course assistants can verify your results\n",
    "- Plagiarism: trying to pass another persons work as your own result is strictly forbidden, see https://www.utu.fi/en/guidelines-for-misconduct-and-fraud-at-utu\n",
    "- Contact the course assistant responsible for the exercise if you need guidance, try to do this **well before the deadline**"
   ]
  },
  {
   "cell_type": "markdown",
   "metadata": {},
   "source": [
    "## Evaluation\n",
    "Fail/Pass/Pass with honors (+1)<br>\n",
    "Getting +1 requires a completely correct solution and also thorough analysis and discussion of the results. Bonus points are directly added to your exam points."
   ]
  },
  {
   "cell_type": "markdown",
   "metadata": {},
   "source": [
    "## Data description:\n",
    "- Original data source (open data): https://datadryad.org/stash/dataset/doi:10.5061/dryad.2b09s\n",
    "- Article describing study setup, features etc.: https://journals.plos.org/plosone/article?id=10.1371/journal.pone.0140330\n",
    "\n",
    "From the original zipped Excel, sheet 'Extracted_Features', out of 159 original biopotential features<br>\n",
    "**nine features were chosen for your analysis:**\n",
    "\n",
    "muscle **zygomaticus** electromyography (EMG)<br>\n",
    "'CH22_Sim-corr' <br>\n",
    "muscle **corrugator** electromyography (EMG)<br>\n",
    "'CH23_Sim-corr', 'CH23_A-P2P', 'CH23_E-Shannon'<br>\n",
    "muscle **trapezius** electromyography (EMG)<br>\n",
    "'CH24_Sim-corr'<br><br>\n",
    "**electrocardiography** (ECG)<br>\n",
    "'CH25_meanRR', 'CH25_slopeRR'<br><br>\n",
    "**electrodermal activity** (EDA)<br>\n",
    "'CH26_A-P2P','CH26_A-RMS'"
   ]
  },
  {
   "cell_type": "markdown",
   "metadata": {},
   "source": [
    "## Tasks:\n",
    "\n",
    "<b>Data upload:</b><br>\n",
    "1. Read data from the open data source https://raw.githubusercontent.com/elmasyr/ada/master/ex3_biovid_subset.csv<br>\n",
    "Note! Use the url to obtain the data, not a local copy of the file.<br>\n",
    "2. Check the uploaded data shortly. Note that the file contains more data than the listed features. Make sure you understand what is included in the dataset before proceeding. \n",
    "\n",
    "<b>Preprocessing:</b><br>\n",
    "3. Check the two label columns \"Label\" and \"Label_ord\" distribution, answer the question i)--iii)\n",
    "4. Check the descriptive statistics of the features, answer the question iv)\n",
    "5. Standarize data using z-score.\n",
    "6. Check the descriptive statistics of the standardized features, answer the question v)\n",
    "7. Validate the c-index code you use (your own or library version)\n",
    "\n",
    "<b>Analysis:</b><br>\n",
    "7. With kNN classification (k=29), implement *your own Leave-Subject-Out cross-validation* (do not used ready-made libraries)<br>\n",
    "Note! For kNN you can use e.g. sklearn kNN classifier\n",
    "8. Report the C-index for each subject fold and average performance\n",
    "9. Report also min, max and standard deviation of the C-indices\n",
    "10. Answer the question vi)"
   ]
  },
  {
   "cell_type": "markdown",
   "metadata": {},
   "source": [
    "## Bonus task: Leave-One-Out cross-validation"
   ]
  },
  {
   "cell_type": "markdown",
   "metadata": {},
   "source": [
    "## Exercise submission instructions\n",
    "- Report format<br>\n",
    "    - Name your work ada2019_ex3_johnson.ipynb or similarly, i.e. include your name in the filename<br>\n",
    "    - Return the jupyter notebook (.ipynb) -- NO pdf, zipped file, .py etc. please<br>\n",
    "- Deadline\n",
    "    - Wed 2020-02-05 at 23:59"
   ]
  },
  {
   "cell_type": "markdown",
   "metadata": {},
   "source": [
    "## Before submitting your work:\n",
    "- Check once more the instructions.\n",
    "- Clean it, i.e. remove all irrelevant code and text, including library imports and functions.\n",
    "- Does my code run in a feasible time? i.e. can the customer check and run the code.\n",
    "- Are all reported items clearly in the jupyter notebook? Have I answered all the questions?\n",
    "- Before submitting, with the jupyter notebook: \n",
    "    - Kernel -> Restart and run all \n",
    "    - If not error messages, save the file.\n",
    "- Is the correct version submitted?"
   ]
  },
  {
   "cell_type": "markdown",
   "metadata": {},
   "source": [
    "# ¤¤¤¤ Exercise work ¤¤¤¤"
   ]
  },
  {
   "cell_type": "markdown",
   "metadata": {},
   "source": [
    "## Import libraries"
   ]
  },
  {
   "cell_type": "code",
   "execution_count": 1,
   "metadata": {},
   "outputs": [],
   "source": [
    "# In this cell import all libraries you need. For example: \n",
    "import numpy as np\n",
    "import pandas as pd\n",
    "import matplotlib.pyplot as plt\n",
    "from sklearn.neighbors import KNeighborsClassifier"
   ]
  },
  {
   "cell_type": "markdown",
   "metadata": {},
   "source": [
    "## Read and visualize the dataset"
   ]
  },
  {
   "cell_type": "markdown",
   "metadata": {},
   "source": [
    "### Upload the data and check the data dimesions (# of rows and columns)"
   ]
  },
  {
   "cell_type": "code",
   "execution_count": 2,
   "metadata": {},
   "outputs": [],
   "source": [
    "# In this cell read the file from url https://raw.githubusercontent.com/elmasyr/ada/master/ex3_biovid_subset.csv\n",
    "url=\"https://raw.githubusercontent.com/elmasyr/ada/master/ex3_biovid_subset.csv\"\n",
    "bioDF=pd.read_csv(url)"
   ]
  },
  {
   "cell_type": "code",
   "execution_count": 3,
   "metadata": {},
   "outputs": [
    {
     "name": "stdout",
     "output_type": "stream",
     "text": [
      "The datset includes 4140 rows and 12 columns\n"
     ]
    }
   ],
   "source": [
    "# Print the dataset dimesions (i.e. number of rows and columns)\n",
    "print (\"The datset includes {0} rows and {1} columns\".format(bioDF.shape[0],bioDF.shape[1]))"
   ]
  },
  {
   "cell_type": "markdown",
   "metadata": {},
   "source": [
    "### Checks\n",
    "- dataset columns (assuming you use pandas), otherwise find some other methods to check the data content and printout the column names of the csv file\n",
    "- check the subject numbering output and format"
   ]
  },
  {
   "cell_type": "code",
   "execution_count": 4,
   "metadata": {},
   "outputs": [
    {
     "name": "stdout",
     "output_type": "stream",
     "text": [
      "Column names: \n",
      " ['Subject-ID', 'Label', 'Label_ord', 'CH22_Sim-corr', 'CH23_A-P2P', 'CH23_E-Shannon', 'CH23_Sim-corr', 'CH24_Sim-corr', 'CH26_A-P2P', 'CH26_A-RMS', 'CH25_meanRR', 'CH25_slopeRR']\n"
     ]
    }
   ],
   "source": [
    "# Print here the column names\n",
    "print (\"Column names: \\n\",list(bioDF.columns))"
   ]
  },
  {
   "cell_type": "code",
   "execution_count": 5,
   "metadata": {},
   "outputs": [
    {
     "name": "stdout",
     "output_type": "stream",
     "text": [
      "The first five unique subject IDs are: ['20120713-09_w_21' '20120713-13_m_41' '20120716-14_m_20'\n",
      " '20120717-09_w_23' '20120718-14_w_23']\n"
     ]
    }
   ],
   "source": [
    "# Print out first five (5) unique subject identifications\n",
    "print (\"The first five unique subject IDs are:\",bioDF[\"Subject-ID\"].unique()[:5])"
   ]
  },
  {
   "cell_type": "markdown",
   "metadata": {},
   "source": [
    "### Plot \n",
    "- Plot all features (or numeric columns) in one plot (preferably subplots)<br>\n",
    "Note! plot should be visible in the jupyter notebook"
   ]
  },
  {
   "cell_type": "code",
   "execution_count": 6,
   "metadata": {},
   "outputs": [
    {
     "data": {
      "image/png": "[encoded data removed]",
      "text/plain": [
       "<Figure size 864x864 with 9 Axes>"
      ]
     },
     "metadata": {
      "needs_background": "light"
     },
     "output_type": "display_data"
    }
   ],
   "source": [
    "# Plot here all features\n",
    "bioDF.iloc[:,3:].plot(subplots=True,figsize=(12,12),title=\"Plots of all Features\")\n",
    "plt.xlabel('Samples',fontsize=16)\n",
    "plt.show()"
   ]
  },
  {
   "cell_type": "markdown",
   "metadata": {},
   "source": [
    "## Preprocessing"
   ]
  },
  {
   "cell_type": "markdown",
   "metadata": {},
   "source": [
    "### Printout or plot the distribution of the column 'Label'"
   ]
  },
  {
   "cell_type": "code",
   "execution_count": 7,
   "metadata": {},
   "outputs": [
    {
     "name": "stdout",
     "output_type": "stream",
     "text": [
      "Count of each label: \n",
      " level_zero    1700\n",
      "level_four    1388\n",
      "level_one     1052\n",
      "Name: Label, dtype: int64 \n",
      "\n",
      "Percent distribution of each label: \n",
      " level_zero    41.062802\n",
      "level_four    33.526570\n",
      "level_one     25.410628\n",
      "Name: Label, dtype: float64\n"
     ]
    }
   ],
   "source": [
    "# Write your code here\n",
    "print (\"Count of each label: \\n\",bioDF[\"Label\"].value_counts(),\"\\n\")\n",
    "\n",
    "print (\"Percent distribution of each label: \\n\",(bioDF[\"Label\"].value_counts()/len(bioDF))*100)"
   ]
  },
  {
   "cell_type": "markdown",
   "metadata": {},
   "source": [
    "### <span style='background :yellow'> Questions i-ii </span>\n",
    "i) Is the label evenly distributed?<br>\n",
    "ii) Is the label order logical? Can this label be used in comparing relative ordering/ranking of the data points?"
   ]
  },
  {
   "cell_type": "markdown",
   "metadata": {},
   "source": [
    "Answer here:<br>\n",
    "i) No the labels are not evenly distributed, level_zero is the majority label accounting for 41% of the total <br>\n",
    "\n",
    "ii) Yes because these are ordinal variables, variable whose value exists on an arbitrary scale where only the relative ordering between different values is significant."
   ]
  },
  {
   "cell_type": "markdown",
   "metadata": {},
   "source": [
    "### Printout or plot the distribution of the column 'Label_ord'"
   ]
  },
  {
   "cell_type": "code",
   "execution_count": 8,
   "metadata": {},
   "outputs": [
    {
     "name": "stdout",
     "output_type": "stream",
     "text": [
      "0    1700\n",
      "4    1388\n",
      "1    1052\n",
      "Name: Label_ord, dtype: int64\n"
     ]
    }
   ],
   "source": [
    "# Write your code here\n",
    "print (bioDF[\"Label_ord\"].value_counts())"
   ]
  },
  {
   "cell_type": "markdown",
   "metadata": {},
   "source": [
    "### <span style='background :yellow'> Question iii </span>\n",
    "iii) Which one of the labels should be used in classification? Why?"
   ]
  },
  {
   "cell_type": "markdown",
   "metadata": {},
   "source": [
    "Answer here:<br>\n",
    "iii) The numeric labels (\"Label_ord\"), because some classifiers cannot handle string inputs and may order the inputs alphabetically instead of the way they are intended to be ordered."
   ]
  },
  {
   "cell_type": "markdown",
   "metadata": {},
   "source": [
    "## Standardization"
   ]
  },
  {
   "cell_type": "markdown",
   "metadata": {},
   "source": [
    "### Print the descriptive statistics of the features \n",
    "- at least count, mean, std, min and max need to be shown\n",
    "- no plotting"
   ]
  },
  {
   "cell_type": "code",
   "execution_count": 9,
   "metadata": {},
   "outputs": [
    {
     "data": {
      "text/html": [
       "<div>\n",
       "<style scoped>\n",
       "    .dataframe tbody tr th:only-of-type {\n",
       "        vertical-align: middle;\n",
       "    }\n",
       "\n",
       "    .dataframe tbody tr th {\n",
       "        vertical-align: top;\n",
       "    }\n",
       "\n",
       "    .dataframe thead th {\n",
       "        text-align: right;\n",
       "    }\n",
       "</style>\n",
       "<table border=\"1\" class=\"dataframe\">\n",
       "  <thead>\n",
       "    <tr style=\"text-align: right;\">\n",
       "      <th></th>\n",
       "      <th>CH22_Sim-corr</th>\n",
       "      <th>CH23_A-P2P</th>\n",
       "      <th>CH23_E-Shannon</th>\n",
       "      <th>CH23_Sim-corr</th>\n",
       "      <th>CH24_Sim-corr</th>\n",
       "      <th>CH26_A-P2P</th>\n",
       "      <th>CH26_A-RMS</th>\n",
       "      <th>CH25_meanRR</th>\n",
       "      <th>CH25_slopeRR</th>\n",
       "    </tr>\n",
       "  </thead>\n",
       "  <tbody>\n",
       "    <tr>\n",
       "      <th>count</th>\n",
       "      <td>4140.000000</td>\n",
       "      <td>4140.000000</td>\n",
       "      <td>4140.000000</td>\n",
       "      <td>4140.000000</td>\n",
       "      <td>4140.000000</td>\n",
       "      <td>4140.000000</td>\n",
       "      <td>4140.000000</td>\n",
       "      <td>4140.000000</td>\n",
       "      <td>4140.000000</td>\n",
       "    </tr>\n",
       "    <tr>\n",
       "      <th>mean</th>\n",
       "      <td>0.050570</td>\n",
       "      <td>96.920191</td>\n",
       "      <td>3.826557</td>\n",
       "      <td>0.049376</td>\n",
       "      <td>0.047911</td>\n",
       "      <td>0.595780</td>\n",
       "      <td>3.290203</td>\n",
       "      <td>0.899374</td>\n",
       "      <td>-0.003644</td>\n",
       "    </tr>\n",
       "    <tr>\n",
       "      <th>std</th>\n",
       "      <td>0.078804</td>\n",
       "      <td>228.176970</td>\n",
       "      <td>1.923046</td>\n",
       "      <td>0.078477</td>\n",
       "      <td>0.059807</td>\n",
       "      <td>0.943576</td>\n",
       "      <td>2.981606</td>\n",
       "      <td>0.153013</td>\n",
       "      <td>0.024603</td>\n",
       "    </tr>\n",
       "    <tr>\n",
       "      <th>min</th>\n",
       "      <td>0.000000</td>\n",
       "      <td>0.000000</td>\n",
       "      <td>0.000000</td>\n",
       "      <td>0.000000</td>\n",
       "      <td>0.000009</td>\n",
       "      <td>-0.624000</td>\n",
       "      <td>0.599959</td>\n",
       "      <td>0.000000</td>\n",
       "      <td>-0.316685</td>\n",
       "    </tr>\n",
       "    <tr>\n",
       "      <th>25%</th>\n",
       "      <td>0.010236</td>\n",
       "      <td>9.661825</td>\n",
       "      <td>2.396241</td>\n",
       "      <td>0.010339</td>\n",
       "      <td>0.013272</td>\n",
       "      <td>0.017000</td>\n",
       "      <td>1.104965</td>\n",
       "      <td>0.805891</td>\n",
       "      <td>-0.013393</td>\n",
       "    </tr>\n",
       "    <tr>\n",
       "      <th>50%</th>\n",
       "      <td>0.023109</td>\n",
       "      <td>24.579779</td>\n",
       "      <td>4.149482</td>\n",
       "      <td>0.023902</td>\n",
       "      <td>0.029851</td>\n",
       "      <td>0.075500</td>\n",
       "      <td>2.220256</td>\n",
       "      <td>0.883234</td>\n",
       "      <td>-0.002344</td>\n",
       "    </tr>\n",
       "    <tr>\n",
       "      <th>75%</th>\n",
       "      <td>0.053026</td>\n",
       "      <td>75.453260</td>\n",
       "      <td>5.438858</td>\n",
       "      <td>0.054453</td>\n",
       "      <td>0.059539</td>\n",
       "      <td>0.566250</td>\n",
       "      <td>4.130034</td>\n",
       "      <td>0.978207</td>\n",
       "      <td>0.006452</td>\n",
       "    </tr>\n",
       "    <tr>\n",
       "      <th>max</th>\n",
       "      <td>0.778670</td>\n",
       "      <td>3939.213771</td>\n",
       "      <td>6.958736</td>\n",
       "      <td>0.920511</td>\n",
       "      <td>0.936077</td>\n",
       "      <td>3.095000</td>\n",
       "      <td>18.663143</td>\n",
       "      <td>1.856916</td>\n",
       "      <td>0.131641</td>\n",
       "    </tr>\n",
       "  </tbody>\n",
       "</table>\n",
       "</div>"
      ],
      "text/plain": [
       "       CH22_Sim-corr   CH23_A-P2P  CH23_E-Shannon  CH23_Sim-corr  \\\n",
       "count    4140.000000  4140.000000     4140.000000    4140.000000   \n",
       "mean        0.050570    96.920191        3.826557       0.049376   \n",
       "std         0.078804   228.176970        1.923046       0.078477   \n",
       "min         0.000000     0.000000        0.000000       0.000000   \n",
       "25%         0.010236     9.661825        2.396241       0.010339   \n",
       "50%         0.023109    24.579779        4.149482       0.023902   \n",
       "75%         0.053026    75.453260        5.438858       0.054453   \n",
       "max         0.778670  3939.213771        6.958736       0.920511   \n",
       "\n",
       "       CH24_Sim-corr   CH26_A-P2P   CH26_A-RMS  CH25_meanRR  CH25_slopeRR  \n",
       "count    4140.000000  4140.000000  4140.000000  4140.000000   4140.000000  \n",
       "mean        0.047911     0.595780     3.290203     0.899374     -0.003644  \n",
       "std         0.059807     0.943576     2.981606     0.153013      0.024603  \n",
       "min         0.000009    -0.624000     0.599959     0.000000     -0.316685  \n",
       "25%         0.013272     0.017000     1.104965     0.805891     -0.013393  \n",
       "50%         0.029851     0.075500     2.220256     0.883234     -0.002344  \n",
       "75%         0.059539     0.566250     4.130034     0.978207      0.006452  \n",
       "max         0.936077     3.095000    18.663143     1.856916      0.131641  "
      ]
     },
     "execution_count": 9,
     "metadata": {},
     "output_type": "execute_result"
    }
   ],
   "source": [
    "# Write your code here\n",
    "bioDF.iloc[:,3:].describe()"
   ]
  },
  {
   "cell_type": "markdown",
   "metadata": {},
   "source": [
    "### <span style='background :yellow'> Question iv </span>\n",
    "iv) Why do the features need to be standardized?"
   ]
  },
  {
   "cell_type": "markdown",
   "metadata": {},
   "source": [
    "Answer here:<br>\n",
    "iv) Rescaling of data is performed to adjust the features with similar scaling to the vector space. When comparing different features, if the scales of the features are very different some features might dominate others that are in a different smaller order of magnitude"
   ]
  },
  {
   "cell_type": "markdown",
   "metadata": {},
   "source": [
    "### Standardize the dataset features using z-score standardization"
   ]
  },
  {
   "cell_type": "code",
   "execution_count": 10,
   "metadata": {},
   "outputs": [],
   "source": [
    "#Use this cell for the z-score standardization\n",
    "cols=list(bioDF.iloc[:,3:].columns)\n",
    "for col in cols:\n",
    "    col_zscore = col + '_ZS' #add ZS to each feature name to indicated z-score\n",
    "    bioDF[col_zscore] = (bioDF[col] - (bioDF[col].mean()))/(bioDF[col].std(ddof=0))\n",
    "\n",
    "bioZSDF=bioDF.copy() #copy just to keep original features somewhere\n",
    "bioZSDF.drop(cols,inplace=True,axis=1) #drop original features from z-score dataframe"
   ]
  },
  {
   "cell_type": "markdown",
   "metadata": {},
   "source": [
    "### Check the outcome, descriptive statistics of the standardized features\n",
    "- at least count, mean, std, min and max need to be shown"
   ]
  },
  {
   "cell_type": "code",
   "execution_count": 11,
   "metadata": {},
   "outputs": [
    {
     "data": {
      "text/html": [
       "<div>\n",
       "<style scoped>\n",
       "    .dataframe tbody tr th:only-of-type {\n",
       "        vertical-align: middle;\n",
       "    }\n",
       "\n",
       "    .dataframe tbody tr th {\n",
       "        vertical-align: top;\n",
       "    }\n",
       "\n",
       "    .dataframe thead th {\n",
       "        text-align: right;\n",
       "    }\n",
       "</style>\n",
       "<table border=\"1\" class=\"dataframe\">\n",
       "  <thead>\n",
       "    <tr style=\"text-align: right;\">\n",
       "      <th></th>\n",
       "      <th>CH22_Sim-corr_ZS</th>\n",
       "      <th>CH23_A-P2P_ZS</th>\n",
       "      <th>CH23_E-Shannon_ZS</th>\n",
       "      <th>CH23_Sim-corr_ZS</th>\n",
       "      <th>CH24_Sim-corr_ZS</th>\n",
       "      <th>CH26_A-P2P_ZS</th>\n",
       "      <th>CH26_A-RMS_ZS</th>\n",
       "      <th>CH25_meanRR_ZS</th>\n",
       "      <th>CH25_slopeRR_ZS</th>\n",
       "    </tr>\n",
       "  </thead>\n",
       "  <tbody>\n",
       "    <tr>\n",
       "      <th>count</th>\n",
       "      <td>4.140000e+03</td>\n",
       "      <td>4.140000e+03</td>\n",
       "      <td>4.140000e+03</td>\n",
       "      <td>4.140000e+03</td>\n",
       "      <td>4.140000e+03</td>\n",
       "      <td>4.140000e+03</td>\n",
       "      <td>4.140000e+03</td>\n",
       "      <td>4.140000e+03</td>\n",
       "      <td>4.140000e+03</td>\n",
       "    </tr>\n",
       "    <tr>\n",
       "      <th>mean</th>\n",
       "      <td>4.838923e-16</td>\n",
       "      <td>2.513086e-16</td>\n",
       "      <td>1.180591e-15</td>\n",
       "      <td>-6.948012e-16</td>\n",
       "      <td>1.544355e-15</td>\n",
       "      <td>7.713100e-16</td>\n",
       "      <td>-6.849057e-16</td>\n",
       "      <td>-3.104294e-15</td>\n",
       "      <td>-7.153564e-16</td>\n",
       "    </tr>\n",
       "    <tr>\n",
       "      <th>std</th>\n",
       "      <td>1.000121e+00</td>\n",
       "      <td>1.000121e+00</td>\n",
       "      <td>1.000121e+00</td>\n",
       "      <td>1.000121e+00</td>\n",
       "      <td>1.000121e+00</td>\n",
       "      <td>1.000121e+00</td>\n",
       "      <td>1.000121e+00</td>\n",
       "      <td>1.000121e+00</td>\n",
       "      <td>1.000121e+00</td>\n",
       "    </tr>\n",
       "    <tr>\n",
       "      <th>min</th>\n",
       "      <td>-6.417909e-01</td>\n",
       "      <td>-4.248102e-01</td>\n",
       "      <td>-1.990082e+00</td>\n",
       "      <td>-6.292563e-01</td>\n",
       "      <td>-8.010432e-01</td>\n",
       "      <td>-1.292876e+00</td>\n",
       "      <td>-9.023896e-01</td>\n",
       "      <td>-5.878487e+00</td>\n",
       "      <td>-1.272527e+01</td>\n",
       "    </tr>\n",
       "    <tr>\n",
       "      <th>25%</th>\n",
       "      <td>-5.118783e-01</td>\n",
       "      <td>-3.824615e-01</td>\n",
       "      <td>-7.438658e-01</td>\n",
       "      <td>-4.974914e-01</td>\n",
       "      <td>-5.792534e-01</td>\n",
       "      <td>-6.134636e-01</td>\n",
       "      <td>-7.329950e-01</td>\n",
       "      <td>-6.110246e-01</td>\n",
       "      <td>-3.963096e-01</td>\n",
       "    </tr>\n",
       "    <tr>\n",
       "      <th>50%</th>\n",
       "      <td>-3.485069e-01</td>\n",
       "      <td>-3.170747e-01</td>\n",
       "      <td>1.679440e-01</td>\n",
       "      <td>-3.246480e-01</td>\n",
       "      <td>-3.020207e-01</td>\n",
       "      <td>-5.514580e-01</td>\n",
       "      <td>-3.588926e-01</td>\n",
       "      <td>-1.054939e-01</td>\n",
       "      <td>5.284110e-02</td>\n",
       "    </tr>\n",
       "    <tr>\n",
       "      <th>75%</th>\n",
       "      <td>3.117413e-02</td>\n",
       "      <td>-9.409155e-02</td>\n",
       "      <td>8.385109e-01</td>\n",
       "      <td>6.469106e-02</td>\n",
       "      <td>1.944480e-01</td>\n",
       "      <td>-3.129955e-02</td>\n",
       "      <td>2.817045e-01</td>\n",
       "      <td>5.152693e-01</td>\n",
       "      <td>4.104036e-01</td>\n",
       "    </tr>\n",
       "    <tr>\n",
       "      <th>max</th>\n",
       "      <td>9.240501e+00</td>\n",
       "      <td>1.684113e+01</td>\n",
       "      <td>1.628956e+00</td>\n",
       "      <td>1.110181e+01</td>\n",
       "      <td>1.485236e+01</td>\n",
       "      <td>2.648987e+00</td>\n",
       "      <td>5.156549e+00</td>\n",
       "      <td>6.258684e+00</td>\n",
       "      <td>5.499361e+00</td>\n",
       "    </tr>\n",
       "  </tbody>\n",
       "</table>\n",
       "</div>"
      ],
      "text/plain": [
       "       CH22_Sim-corr_ZS  CH23_A-P2P_ZS  CH23_E-Shannon_ZS  CH23_Sim-corr_ZS  \\\n",
       "count      4.140000e+03   4.140000e+03       4.140000e+03      4.140000e+03   \n",
       "mean       4.838923e-16   2.513086e-16       1.180591e-15     -6.948012e-16   \n",
       "std        1.000121e+00   1.000121e+00       1.000121e+00      1.000121e+00   \n",
       "min       -6.417909e-01  -4.248102e-01      -1.990082e+00     -6.292563e-01   \n",
       "25%       -5.118783e-01  -3.824615e-01      -7.438658e-01     -4.974914e-01   \n",
       "50%       -3.485069e-01  -3.170747e-01       1.679440e-01     -3.246480e-01   \n",
       "75%        3.117413e-02  -9.409155e-02       8.385109e-01      6.469106e-02   \n",
       "max        9.240501e+00   1.684113e+01       1.628956e+00      1.110181e+01   \n",
       "\n",
       "       CH24_Sim-corr_ZS  CH26_A-P2P_ZS  CH26_A-RMS_ZS  CH25_meanRR_ZS  \\\n",
       "count      4.140000e+03   4.140000e+03   4.140000e+03    4.140000e+03   \n",
       "mean       1.544355e-15   7.713100e-16  -6.849057e-16   -3.104294e-15   \n",
       "std        1.000121e+00   1.000121e+00   1.000121e+00    1.000121e+00   \n",
       "min       -8.010432e-01  -1.292876e+00  -9.023896e-01   -5.878487e+00   \n",
       "25%       -5.792534e-01  -6.134636e-01  -7.329950e-01   -6.110246e-01   \n",
       "50%       -3.020207e-01  -5.514580e-01  -3.588926e-01   -1.054939e-01   \n",
       "75%        1.944480e-01  -3.129955e-02   2.817045e-01    5.152693e-01   \n",
       "max        1.485236e+01   2.648987e+00   5.156549e+00    6.258684e+00   \n",
       "\n",
       "       CH25_slopeRR_ZS  \n",
       "count     4.140000e+03  \n",
       "mean     -7.153564e-16  \n",
       "std       1.000121e+00  \n",
       "min      -1.272527e+01  \n",
       "25%      -3.963096e-01  \n",
       "50%       5.284110e-02  \n",
       "75%       4.104036e-01  \n",
       "max       5.499361e+00  "
      ]
     },
     "execution_count": 11,
     "metadata": {},
     "output_type": "execute_result"
    }
   ],
   "source": [
    "# Write your code here\n",
    "bioZSDF.iloc[:,3:].describe()"
   ]
  },
  {
   "cell_type": "markdown",
   "metadata": {},
   "source": [
    "### <span style='background :yellow'> Question v <span>\n",
    "v) What are the mean and the standard deviation of the standardized features?"
   ]
  },
  {
   "cell_type": "code",
   "execution_count": 12,
   "metadata": {},
   "outputs": [
    {
     "name": "stdout",
     "output_type": "stream",
     "text": [
      "Mean Values of the standardized features:\n",
      " CH22_Sim-corr_ZS     4.838923e-16\n",
      "CH23_A-P2P_ZS        2.513086e-16\n",
      "CH23_E-Shannon_ZS    1.180591e-15\n",
      "CH23_Sim-corr_ZS    -6.948012e-16\n",
      "CH24_Sim-corr_ZS     1.544355e-15\n",
      "CH26_A-P2P_ZS        7.713100e-16\n",
      "CH26_A-RMS_ZS       -6.849057e-16\n",
      "CH25_meanRR_ZS      -3.104294e-15\n",
      "CH25_slopeRR_ZS     -7.153564e-16\n",
      "dtype: float64 \n",
      "\n",
      "Standard deviation of the standardized features: \n",
      " CH22_Sim-corr_ZS     1.000121\n",
      "CH23_A-P2P_ZS        1.000121\n",
      "CH23_E-Shannon_ZS    1.000121\n",
      "CH23_Sim-corr_ZS     1.000121\n",
      "CH24_Sim-corr_ZS     1.000121\n",
      "CH26_A-P2P_ZS        1.000121\n",
      "CH26_A-RMS_ZS        1.000121\n",
      "CH25_meanRR_ZS       1.000121\n",
      "CH25_slopeRR_ZS      1.000121\n",
      "dtype: float64\n"
     ]
    }
   ],
   "source": [
    "print (\"Mean Values of the standardized features:\\n\",bioZSDF.iloc[:,3:].mean(),\"\\n\")\n",
    "print(\"Standard deviation of the standardized features: \\n\",bioZSDF.iloc[:,3:].std() )"
   ]
  },
  {
   "cell_type": "markdown",
   "metadata": {},
   "source": [
    "### As you can see above the mean of the Z-Score features now are very close to 0 and the std is approximately 1."
   ]
  },
  {
   "cell_type": "markdown",
   "metadata": {},
   "source": [
    "## C-index code "
   ]
  },
  {
   "cell_type": "code",
   "execution_count": 13,
   "metadata": {},
   "outputs": [],
   "source": [
    "'''given true labels and corresponding predictions, \n",
    "calculates the C-index score\n",
    "Note! You can also use an existing library version of the concordance index'''\n",
    "\n",
    "def cindex(true_labels, pred_labels):\n",
    "    \"\"\"Returns C-index between true labels and predicted labels\"\"\" \n",
    "    n = 0\n",
    "    n_sum = 0\n",
    "    for i in range(len(true_labels)):\n",
    "        t = true_labels[i]\n",
    "        p = pred_labels[i]\n",
    "        for j in range(i+1,len(true_labels)):\n",
    "            nt = true_labels[j]\n",
    "            np = pred_labels[j]\n",
    "            if t != nt:\n",
    "                n += 1\n",
    "                if (p < np and t < nt) or (p > np and t > nt):\n",
    "                        n_sum +=  1\n",
    "                elif p == np:\n",
    "                    n_sum += 0.5     \n",
    "    return (n_sum/n)"
   ]
  },
  {
   "cell_type": "markdown",
   "metadata": {},
   "source": [
    "### Test c-index function"
   ]
  },
  {
   "cell_type": "code",
   "execution_count": 14,
   "metadata": {},
   "outputs": [
    {
     "name": "stdout",
     "output_type": "stream",
     "text": [
      "0.75\n"
     ]
    }
   ],
   "source": [
    "#test cindex function with following values\n",
    "#additionally you can add your own short test to show \n",
    "true_labels = [0, 1, 4, 0, 4]\n",
    "predictions = [4, 1, 4, 0, 4]\n",
    "cindx = cindex(true_labels, predictions)\n",
    "print(cindx)"
   ]
  },
  {
   "cell_type": "markdown",
   "metadata": {},
   "source": [
    "## Analysis\n",
    "\n",
    "With kNN classification (k=29), implement Leave-Subject-Out cross-validation and calculate the C-index for each subject\n",
    "- printout the C-indices for 10 fist subjects\n",
    "- calculate and printout average of all subject fold C-indices\n",
    "- calculate and printout the min, max, standard deviation of all subject specific C-indices"
   ]
  },
  {
   "cell_type": "markdown",
   "metadata": {},
   "source": [
    "### Functions"
   ]
  },
  {
   "cell_type": "code",
   "execution_count": 15,
   "metadata": {},
   "outputs": [],
   "source": [
    "# Include here all the functions that you need to run in the data analysis part.\n",
    "# If you have several functions, consider putting them in separate cells, might make the testing and browsing easier\n",
    "#table\n",
    "#### did not create any functions for this exerise"
   ]
  },
  {
   "cell_type": "markdown",
   "metadata": {},
   "source": [
    "### Results for Leave-Subject-Out cross-validation"
   ]
  },
  {
   "cell_type": "code",
   "execution_count": 16,
   "metadata": {},
   "outputs": [
    {
     "name": "stdout",
     "output_type": "stream",
     "text": [
      "completed\n"
     ]
    }
   ],
   "source": [
    "# In this cell run your script for leave-Subject-Out cross-validation and print the C-indices for 10 first subject folds.\n",
    "# In this cell, or in an additional one, printout the average of all indices.\n",
    "# In this cell, or in an additional one, printout the min, max and std of all indices.\n",
    "k=29\n",
    "knn = KNeighborsClassifier(n_neighbors=k)\n",
    "\n",
    "###### Label_ord ######\n",
    "features=list(bioZSDF.iloc[:,3:])\n",
    "target=[\"Label_ord\"]\n",
    "individualpred=[]\n",
    "individualtest=[]\n",
    "testextended=[]\n",
    "predextended=[]\n",
    "\n",
    "for i in list(bioZSDF[\"Subject-ID\"].unique()):\n",
    "    #get the test group\n",
    "    testgroup=bioZSDF[bioZSDF[\"Subject-ID\"] == i]\n",
    "    xtest=testgroup[features]\n",
    "    ytest=testgroup[target].values.ravel()\n",
    "    #get all other groups\n",
    "    traingroup=bioZSDF[bioZSDF[\"Subject-ID\"] != i]\n",
    "    xtrain=traingroup[features]\n",
    "    ytrain=traingroup[target].values.ravel()\n",
    "    \n",
    "    #train classifier\n",
    "    knn.fit(xtrain,ytrain)\n",
    "    #get predictions\n",
    "    ypred=knn.predict(np.array(xtest))\n",
    "    #extend true and predicted values onto the empty lists\n",
    "    testextended.extend(np.array(ytest).flatten()) #all tests extended together\n",
    "    predextended.extend(ypred.flatten()) #all predictions extended together\n",
    "    \n",
    "    individualtest.append(np.array(ytest).flatten()) #list of lists of each test set\n",
    "    individualpred.append(ypred.flatten()) #list of lists of each prediction set\n",
    "\n",
    "#my_cindex=cindex(my_tests,my_predictions)  #apply cindex function to true and predicted values\n",
    "#print (\"Cindex =\",my_cindex)\n",
    "print  (\"completed\")\n",
    "\n",
    "\n"
   ]
  },
  {
   "cell_type": "markdown",
   "metadata": {},
   "source": [
    "### Answers\n"
   ]
  },
  {
   "cell_type": "code",
   "execution_count": 17,
   "metadata": {},
   "outputs": [
    {
     "name": "stdout",
     "output_type": "stream",
     "text": [
      "the C-indices for 10 first subject folds:\n",
      "\n",
      "subject fold 0 C-index = 0.6681564245810055\n",
      "subject fold 1 C-index = 0.9316770186335404\n",
      "subject fold 2 C-index = 0.8629441624365483\n",
      "subject fold 3 C-index = 0.535064935064935\n",
      "subject fold 4 C-index = 0.8640776699029126\n",
      "subject fold 5 C-index = 0.8069444444444445\n",
      "subject fold 6 C-index = 0.8316176470588236\n",
      "subject fold 7 C-index = 0.6997563946406821\n",
      "subject fold 8 C-index = 0.8692893401015228\n",
      "subject fold 9 C-index = 0.6818181818181818\n",
      "\n",
      "The average C-index of all indices is: 0.7750724099497949 \n",
      "\n",
      "The Min C-index was: 0.5225479143179256 \n",
      "\n",
      "The Max C-index was: 0.9316770186335404 \n",
      "\n",
      "The Std of all C-indicies was: 0.0913672262446539 \n",
      "\n"
     ]
    }
   ],
   "source": [
    "cind_list=[]\n",
    "print (\"the C-indices for 10 first subject folds:\\n\")\n",
    "for c in range(10):\n",
    "    cindex10=cindex(individualtest[c],individualpred[c])  #apply cindex function to true and predicted values\n",
    "    print (\"subject fold {0} C-index = {1}\".format(c,cindex10))\n",
    "print(\"\")\n",
    "for c in range(len(individualtest)):\n",
    "    cind=cindex(individualtest[c],individualpred[c])\n",
    "    cind_list.append(cind)\n",
    "print (\"The average C-index of all indices is:\",np.mean(cind_list),\"\\n\")\n",
    "\n",
    "print (\"The Min C-index was:\",np.min(cind_list),\"\\n\")\n",
    "print (\"The Max C-index was:\",np.max(cind_list),\"\\n\")\n",
    "print(\"The Std of all C-indicies was:\",np.std(cind_list),\"\\n\")\n"
   ]
  },
  {
   "cell_type": "markdown",
   "metadata": {},
   "source": [
    "### <span style='background :yellow'>Question vi</span> -- Interpretation of results\n",
    "vi) What is your interpretation on the results?"
   ]
  },
  {
   "cell_type": "markdown",
   "metadata": {},
   "source": [
    "Answer here: The C-index result can vary significantly depending on the patient. This is pretty typical because people are different from each other so there will be always outlier results where the returned values are much greater or much lower than the mean.  \n",
    "\n",
    "For example lets say we have 10 patients and 9 of them are of similar age and health. The 10th patient could be much older and in poor health. It wouldn't be unreasonable to expect a model trained on the 9 health patients to produce sub-optimal results when tested on the 10th patients data. This is why it's important and desirable for a dataset to contain an even distribution of samples from different populations of data. Sadly in the real world this isn't always the case and is what makes creating good classifiers that can perform well on unseen data challenging. "
   ]
  },
  {
   "cell_type": "markdown",
   "metadata": {},
   "source": [
    "# ¤¤¤¤ Bonus exercise ¤¤¤¤\n",
    "B1) Calculate the C-index for the previous LSO-CV using all real labels and all predictions (instead of averaging them all)<br>\n",
    "B2) With kNN classification (k=29), implement Leave-One-Out cross-validation and calculate performance with C-index calculation all real labels and all predictions"
   ]
  },
  {
   "cell_type": "markdown",
   "metadata": {},
   "source": [
    "### Bonus B1: Calculate the C-index for the previous LSO-CV using all real labels and all predictions"
   ]
  },
  {
   "cell_type": "code",
   "execution_count": 18,
   "metadata": {},
   "outputs": [
    {
     "name": "stdout",
     "output_type": "stream",
     "text": [
      "Cindex = 0.7714181045673317\n"
     ]
    }
   ],
   "source": [
    "#using all test and predictions at the same time from LSO-CV\n",
    "#in practice this shouldn't be done\n",
    "my_cindex=cindex(testextended,predextended)  #apply cindex function to true and predicted values\n",
    "print (\"Cindex =\",my_cindex)"
   ]
  },
  {
   "cell_type": "markdown",
   "metadata": {},
   "source": [
    "### Bonus B2: Results for Leave-One-Out cross-validation"
   ]
  },
  {
   "cell_type": "code",
   "execution_count": 19,
   "metadata": {},
   "outputs": [],
   "source": [
    "# In this cell run your script for leave-One-Out cross-validation and print the individual C-indices\n",
    "k=29\n",
    "knn = KNeighborsClassifier(n_neighbors=k)\n",
    "\n",
    "###### Label_ord ######\n",
    "features=list(bioZSDF.iloc[:,3:])\n",
    "target=[\"Label_ord\"]\n",
    "my_test=[]\n",
    "my_pred=[]\n",
    "\n",
    "\n",
    "for i in range(len(bioZSDF)):\n",
    "    #test and train sets leave-one-out\n",
    "    #test sets\n",
    "    xtest=bioZSDF[features].iloc[i]\n",
    "    ytest=bioZSDF[target].iloc[i].values.ravel()\n",
    "    #train sets\n",
    "    xtrain=pd.concat([bioZSDF[features].iloc[:i],bioZSDF[features].iloc[i+1:]])       \n",
    "    ytrain=pd.concat([bioZSDF[target].iloc[:i],bioZSDF[target].iloc[i+1:]]).values.ravel()\n",
    "    \n",
    "    #train classifier\n",
    "    knn.fit(xtrain,ytrain)\n",
    "    #get predictions\n",
    "    ypred=knn.predict(np.array(xtest).reshape(1, -1) )\n",
    "    #extend true and predicted values onto the empty lists\n",
    "    my_test.extend(np.array(ytest).flatten())\n",
    "    my_pred.extend(ypred.flatten())\n"
   ]
  },
  {
   "cell_type": "code",
   "execution_count": 20,
   "metadata": {},
   "outputs": [
    {
     "name": "stdout",
     "output_type": "stream",
     "text": [
      "Cindex = 0.7897604319122652\n"
     ]
    }
   ],
   "source": [
    "my_cindex=cindex(my_test,my_pred)  #apply cindex function to true and predicted values\n",
    "print (\"Cindex =\",my_cindex)"
   ]
  },
  {
   "cell_type": "markdown",
   "metadata": {},
   "source": [
    "### <span style='background :yellow'>Bonus: Questions</span>\n",
    "vii) Present the results of average C-index performance from the LSO and LOO cross-validation. Do they differ? <br>\n",
    "viii) What is your interpretation on the results?"
   ]
  },
  {
   "cell_type": "markdown",
   "metadata": {},
   "source": [
    "Answer here:<br>\n",
    "vii)LSOCV: 0.7750, LOOCV: 0.7897 LOOCV produces a slightly better score\n",
    "\n",
    "viii) Leave-One-Out is more optimistic because of the fact that patient data from the same subject is being used to train and test the data. So bias is being introduced to the training set this way.\n",
    "\n",
    "When dealing with data where samples are not independent of each other, some kind of group wise splitting must be implemented in order to avoid bias to leak into the training data"
   ]
  }
 ],
 "metadata": {
  "kernelspec": {
   "display_name": "Python 3",
   "language": "python",
   "name": "python3"
  },
  "language_info": {
   "codemirror_mode": {
    "name": "ipython",
    "version": 3
   },
   "file_extension": ".py",
   "mimetype": "text/x-python",
   "name": "python",
   "nbconvert_exporter": "python",
   "pygments_lexer": "ipython3",
   "version": "3.7.3"
  },
  "toc": {
   "base_numbering": 1,
   "nav_menu": {},
   "number_sections": false,
   "sideBar": true,
   "skip_h1_title": false,
   "title_cell": "Table of Contents",
   "title_sidebar": "Contents",
   "toc_cell": false,
   "toc_position": {},
   "toc_section_display": true,
   "toc_window_display": false
  },
  "varInspector": {
   "cols": {
    "lenName": 16,
    "lenType": 16,
    "lenVar": 40
   },
   "kernels_config": {
    "python": {
     "delete_cmd_postfix": "",
     "delete_cmd_prefix": "del ",
     "library": "var_list.py",
     "varRefreshCmd": "print(var_dic_list())"
    },
    "r": {
     "delete_cmd_postfix": ") ",
     "delete_cmd_prefix": "rm(",
     "library": "var_list.r",
     "varRefreshCmd": "cat(var_dic_list()) "
    }
   },
   "types_to_exclude": [
    "module",
    "function",
    "builtin_function_or_method",
    "instance",
    "_Feature"
   ],
   "window_display": false
  }
 },
 "nbformat": 4,
 "nbformat_minor": 2
}
