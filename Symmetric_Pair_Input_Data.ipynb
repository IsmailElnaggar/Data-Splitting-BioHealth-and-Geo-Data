{
 "cells": [
  {
   "cell_type": "markdown",
   "metadata": {},
   "source": [
    "# Exercise: Cross-Validation with Symmetric Pair-Input Data\n",
    "\n",
    "This exercise consists of two tasks. The first task is compulsory: you will not get the right to take the exam if you fail the first task. The second task optional: you do not have to complete the second task but a successful completion will give you an extra point in the exam.\n",
    "\n",
    "In both tasks, use the K-nearest neighbors classifier with K=1 and Euclidean distance for learning and the concordance index for evaluation. You are encouraged to re-use your own code from the previous exercises. Use the data files `pairs.data`, `features.data`, and `labels.data` that are available in Moodle. The descriptions of these files are provided in the exercise overview, which is also available in Moodle.\n",
    "\n",
    "Follow the general exercise guidelines of the course (listed in Moodle). Particularly,\n",
    "\n",
    "- Describe and implement your solution directly to this Jupyter notebook file.\n",
    "- Remember to describe your solution in general and add detailed comments to the critical parts of your code.\n",
    "- Remember to justify your design choices and discuss your results.\n",
    "- Your report must be easy to follow and your code must be runnable in Jupyter notebook.\n",
    "\n",
    "Feel free to use markdown cells and code cells as you see appropriate.\n",
    "\n",
    "Submit the finished work to Moodle before the **deadline Wednesday 19th of February 2020 at 23:59**. Late submissions will be ignored."
   ]
  },
  {
   "cell_type": "markdown",
   "metadata": {},
   "source": [
    "## Cover page"
   ]
  },
  {
   "cell_type": "markdown",
   "metadata": {},
   "source": [
    "Student name: Ismail Elnaggar\n",
    "\n",
    "Student number: 519208\n",
    "\n",
    "Student email: imelna@utu.fi"
   ]
  },
  {
   "cell_type": "markdown",
   "metadata": {},
   "source": [
    "## Task 1 (compulsory)\n",
    "\n",
    "**You must successfully complete this task in order to get the right to take the exam.**\n",
    "\n",
    "1. Implement the modified leave-one-out cross-validation scheme that is described in the lecture notes.\n",
    "\n",
    "2. Estimate and report the generalisation performance of the K-nearest neighbor classifier in predicting the functional similarity of proteins. Use both the unmodified and the modified leave-one-out cross-validation.\n",
    "\n",
    "3. Discuss your results. In particular, answer the following questions:\n",
    " - Why do the two cross-validation schemes produce notably different estimates?\n",
    " - For which types of pairs (A, B, or C) are these schemes appropriate and why?"
   ]
  },
  {
   "cell_type": "code",
   "execution_count": 1,
   "metadata": {},
   "outputs": [],
   "source": [
    "# In this cell import all libraries you need. For example: \n",
    "import numpy as np\n",
    "import pandas as pd\n",
    "import matplotlib.pyplot as plt\n",
    "from sklearn.neighbors import KNeighborsClassifier"
   ]
  },
  {
   "cell_type": "code",
   "execution_count": 2,
   "metadata": {},
   "outputs": [
    {
     "name": "stdout",
     "output_type": "stream",
     "text": [
      "The dimensions of the pairs dataset are: (95, 2) \n",
      "\n",
      "The dimensions of the features dataset are: (95, 41) \n",
      "\n",
      "The dimensions of the labels dataset are: (95, 1) \n",
      "\n"
     ]
    }
   ],
   "source": [
    "### import data\n",
    "### features, labels, pairs\n",
    "pairsdf=pd.read_csv(\"C:/Users/imelna/anaconda/envs/emgEnv/ADA exercises/Exercise 5 data/pairs.data\",header=None)\n",
    "featuresdf=pd.read_csv(\"C:/Users/imelna/anaconda/envs/emgEnv/ADA exercises/Exercise 5 data/features.data\",header=None)\n",
    "labelsdf=pd.read_csv(\"C:/Users/imelna/anaconda/envs/emgEnv/ADA exercises/Exercise 5 data/labels.data\",header=None)\n",
    "\n",
    "print (\"The dimensions of the pairs dataset are:\",pairsdf.shape,\"\\n\")\n",
    "print (\"The dimensions of the features dataset are:\",featuresdf.shape,\"\\n\")\n",
    "print (\"The dimensions of the labels dataset are:\",labelsdf.shape,\"\\n\")"
   ]
  },
  {
   "cell_type": "markdown",
   "metadata": {},
   "source": [
    "### concordance index code"
   ]
  },
  {
   "cell_type": "code",
   "execution_count": 3,
   "metadata": {},
   "outputs": [],
   "source": [
    "###cindex code\n",
    "def cindex(true_labels, pred_labels):\n",
    "    \"\"\"Returns C-index between true labels and predicted labels\"\"\" \n",
    "    n = 0\n",
    "    n_sum = 0\n",
    "    for i in range(len(true_labels)):\n",
    "        t = true_labels[i]\n",
    "        p = pred_labels[i]\n",
    "        for j in range(i+1,len(true_labels)):\n",
    "            nt = true_labels[j]\n",
    "            np = pred_labels[j]\n",
    "            if t != nt:\n",
    "                n += 1\n",
    "                if (p < np and t < nt) or (p > np and t > nt):\n",
    "                        n_sum +=  1\n",
    "                elif p == np:\n",
    "                    n_sum += 0.5     \n",
    "    return (n_sum/n)"
   ]
  },
  {
   "cell_type": "markdown",
   "metadata": {},
   "source": [
    "### Task 1 Original unmodified LOOCV CASE A"
   ]
  },
  {
   "cell_type": "code",
   "execution_count": 4,
   "metadata": {},
   "outputs": [
    {
     "name": "stdout",
     "output_type": "stream",
     "text": [
      "\n",
      "Original Case A LOOCV Cindex = 0.7617702448210922\n"
     ]
    }
   ],
   "source": [
    "k=1\n",
    "knn = KNeighborsClassifier(n_neighbors=k)\n",
    "my_predictions=[]\n",
    "my_tests=[]\n",
    "\n",
    "for a in range(len(pairsdf)):\n",
    "    \n",
    "    #set xtest and y test\n",
    "    xtest=featuresdf.iloc[a,:]\n",
    "    ytest=labelsdf.iloc[a,:]\n",
    "    \n",
    "    # set xtrain and ytrain\n",
    "    xtrain=pd.concat([featuresdf.iloc[:a],featuresdf.iloc[a+1:]])       \n",
    "    ytrain=pd.concat([labelsdf.iloc[:a],labelsdf.iloc[a+1:]]).values.ravel()\n",
    "     \n",
    "    #train classifier\n",
    "    knn.fit(xtrain,ytrain)\n",
    "    #get predictions\n",
    "    ypred=knn.predict(np.array(xtest).reshape(1, -1))\n",
    "    #append true and predicted values to lists\n",
    "    my_tests.append(ytest.values)\n",
    "    my_predictions.append(ypred.flatten())\n",
    "\n",
    "caseA_cindex=cindex(my_tests,my_predictions)\n",
    "print(\"\")\n",
    "print (\"Original Case A LOOCV Cindex =\",caseA_cindex)"
   ]
  },
  {
   "cell_type": "markdown",
   "metadata": {},
   "source": [
    "### Task 1 Modified LOOCV CASE C\n",
    "\n",
    "1. In case C the training set should not contain any samples that share protiens with the test sample"
   ]
  },
  {
   "cell_type": "markdown",
   "metadata": {},
   "source": [
    "### Testing splitting for Case C"
   ]
  },
  {
   "cell_type": "code",
   "execution_count": 5,
   "metadata": {},
   "outputs": [
    {
     "name": "stdout",
     "output_type": "stream",
     "text": [
      "the test pair of protiens that should be excluded from the training set: ['P15', 'P17'] \n",
      "\n",
      "Does either column contain the protien values: ['P15', 'P17'] ? \n",
      " 0    False\n",
      "1    False\n",
      "dtype: bool \n",
      "\n",
      "It is clear that any samples that contain either protien 1 or protien 2 have been removed from the training set for case C\n"
     ]
    }
   ],
   "source": [
    "### CASE C ###\n",
    "a=4 # select a random index for testing purpose\n",
    "test_pair=list(pairsdf.iloc[a,0:2])\n",
    "print (\"the test pair of protiens that should be excluded from the training set:\",test_pair,\"\\n\") #print the protien pair\n",
    "\n",
    "#use conditional statements to remove any index that contains either protien value\n",
    "caseC_pairs = pairsdf[((pairsdf.iloc[:,0] != pairsdf.iloc[a,0]) & (pairsdf.iloc[:,0] != pairsdf.iloc[a,1])) & ((pairsdf.iloc[:,1] != pairsdf.iloc[a,0]) & (pairsdf.iloc[:,1] != pairsdf.iloc[a,1]))]\n",
    "\n",
    "#print(\"The unique values of column 0 of case C:\",caseC_pairs[0].unique(),\"\\n\")\n",
    "#print(\"The unique values of column 1 of case C:\",caseC_pairs[1].unique(),\"\\n\")\n",
    "\n",
    "#test to see if the protien 1 or protien 2 exist in the dataframe\n",
    "print(\"Does either column contain the protien values:\",test_pair,\"? \\n\",caseC_pairs.isin(test_pair).any(),\"\\n\")\n",
    "print (\"It is clear that any samples that contain either protien 1 or protien 2 have been removed from the training set for case C\")\n"
   ]
  },
  {
   "cell_type": "code",
   "execution_count": 6,
   "metadata": {},
   "outputs": [
    {
     "name": "stdout",
     "output_type": "stream",
     "text": [
      "\n",
      "Modified Case C LOOCV Cindex = 0.6313559322033898\n"
     ]
    }
   ],
   "source": [
    "#### Case C\n",
    "k=1\n",
    "knn = KNeighborsClassifier(n_neighbors=k)\n",
    "my_predictions=[]\n",
    "my_tests=[]\n",
    "\n",
    "for a in range(len(pairsdf)):\n",
    "    \n",
    "    #set xtest and y test\n",
    "    xtest=featuresdf.iloc[a,:]\n",
    "    ytest=labelsdf.iloc[a,:]\n",
    "    #set xtrain and ytrain\n",
    "    #use conditional statements to check that neither protein is in the training set\n",
    "    xtrain = featuresdf[((pairsdf.iloc[:,0] != pairsdf.iloc[a,0]) & (pairsdf.iloc[:,0] != pairsdf.iloc[a,1])) & ((pairsdf.iloc[:,1] != pairsdf.iloc[a,0]) & (pairsdf.iloc[:,1] != pairsdf.iloc[a,1]))]\n",
    "    ytrain = labelsdf[((pairsdf.iloc[:,0] != pairsdf.iloc[a,0]) & (pairsdf.iloc[:,0] != pairsdf.iloc[a,1])) & ((pairsdf.iloc[:,1] != pairsdf.iloc[a,0]) & (pairsdf.iloc[:,1] != pairsdf.iloc[a,1]))].values.ravel()\n",
    "    \n",
    "    #train classifier\n",
    "    knn.fit(xtrain,ytrain)\n",
    "    #get predictions\n",
    "    ypred=knn.predict(np.array(xtest).reshape(1, -1))\n",
    "    #append true and predicted values to lists\n",
    "    my_tests.append(ytest.values)\n",
    "    my_predictions.append(ypred.flatten())\n",
    "    \n",
    "caseC_cindex=cindex(my_tests,my_predictions)\n",
    "print(\"\")\n",
    "print (\"Modified Case C LOOCV Cindex =\",caseC_cindex)"
   ]
  },
  {
   "cell_type": "markdown",
   "metadata": {},
   "source": [
    "### Discussion of results for task 1\n",
    "1. Why do the two cross-validation schemes produce notably different estimates?\n",
    "2. For which types of pairs (A, B, or C) are these schemes appropriate and why?\n",
    "\n",
    "\n",
    "### Answer 1: \n",
    "The unmodified LOO CV used in case A gives a more optimistic performance value because both proteins from the test set exist also in the training set, so the similar proteins leak information into the model. In the modified LOO CV for case C the training data is completely independent of the test data so there is no information leakage into the training set. This is a reason for the notably different estimates.\n",
    "\n",
    "### Answer 2: \n",
    "The unmodified LOO CV estimates the  performance for type A pairs because the training and test set share the same pairs. The modified LOO CV that excludes any samples that contain either test protiens is appropriate for type C pairs. This is because type C pairs do not share any similarities with the training set. "
   ]
  },
  {
   "cell_type": "markdown",
   "metadata": {},
   "source": [
    "## Task 2 (optional)\n",
    "\n",
    "**Successfully completing this task will give you an extra point in the exam.**\n",
    "\n",
    "1. Design a leave-one-out cross-validation scheme that is appropriate for the type of pairs that was not covered by the task 1.\n",
    "\n",
    "2. Explain why your cross-validation scheme is appropriate.\n",
    "\n",
    "3. Implement your cross-validation scheme. Estimate and report the generalisation performance as in the first task.\n",
    "\n",
    "4. Discuss your results. In particular, compare the results to those you obtained in the first task and give reasons for any similarities or differences you observe."
   ]
  },
  {
   "cell_type": "markdown",
   "metadata": {},
   "source": [
    "# Testing splitting for case B "
   ]
  },
  {
   "cell_type": "markdown",
   "metadata": {},
   "source": [
    "### Case B\n",
    "1. In case B we have to perform two rounds of training\n",
    "2. once with protien 1 removed from the training set and once with protien 2 removed from the training set\n"
   ]
  },
  {
   "cell_type": "code",
   "execution_count": 7,
   "metadata": {},
   "outputs": [
    {
     "name": "stdout",
     "output_type": "stream",
     "text": [
      "In this case, protien 1 is P15 and protien 2 is P17 \n",
      "\n",
      "Case B protien 1 P15 removed:\n",
      "Does either column contain the protien values: P15 ? \n",
      " 0    False\n",
      "1    False\n",
      "dtype: bool \n",
      "\n",
      "Case B protien 2 P17 removed:\n",
      "Does either column contain the protien values: P17 ? \n",
      " 0    False\n",
      "1    False\n",
      "dtype: bool \n",
      "\n",
      "\n",
      "It is clear for each protien we are able to select the indices and remove them from the training set\n"
     ]
    }
   ],
   "source": [
    "### CASE B ###\n",
    "a=4 # select a random index for testing purpose\n",
    "test_pair=list(pairsdf.iloc[a,0:2])\n",
    "\n",
    "print (\"In this case, protien 1 is {0} and protien 2 is {1} \\n\".format(test_pair[0],test_pair[1])) #print the protien pair\n",
    "\n",
    "#select the indices that contain protien 1\n",
    "print (\"Case B protien 1 {0} removed:\".format(test_pair[0]))\n",
    "caseB_protien1 = pairsdf[(pairsdf.iloc[:,0] == pairsdf.iloc[a,0]) | (pairsdf.iloc[:,1] == pairsdf.iloc[a,0])].index\n",
    "protien1_removed=pairsdf.drop(caseB_protien1)\n",
    "#print(\"The unique values of column 0 of case B protien 1 removed:\\n\",protien1_removed[0].unique(),\"\\n\")\n",
    "#print(\"The unique values of column 1 of case B protien 1 removed:\\n\",protien1_removed[1].unique(),\"\\n\")\n",
    "\n",
    "print(\"Does either column contain the protien values:\",test_pair[0],\"? \\n\",protien1_removed.isin(list(test_pair[0])).any(),\"\\n\")\n",
    "\n",
    "\n",
    "#select the indices that contain protien 2\n",
    "print (\"Case B protien 2 {0} removed:\".format(test_pair[1]))\n",
    "caseB_protien2 = pairsdf[(pairsdf.iloc[:,0] == pairsdf.iloc[a,1]) | (pairsdf.iloc[:,1] == pairsdf.iloc[a,1])].index\n",
    "protien2_removed=pairsdf.drop(caseB_protien2)\n",
    "#print(\"The unique values of column 0 of case B protien 2 removed:\\n\",protien2_removed[0].unique(),\"\\n\")\n",
    "#print(\"The unique values of column 1 of case B protien 2 removed:\\n\",protien2_removed[1].unique(),\"\\n\")\n",
    "\n",
    "print(\"Does either column contain the protien values:\",test_pair[1],\"? \\n\",protien2_removed.isin(list(test_pair[1])).any(),\"\\n\")\n",
    "print (\"\")\n",
    "print (\"It is clear for each protien we are able to select the indices and remove them from the training set\")"
   ]
  },
  {
   "cell_type": "markdown",
   "metadata": {},
   "source": [
    "### Task 2 Modified LOOCV CASE B\n",
    "\n",
    "1. train the classifier two times in a row\n",
    "2. Train once with indices that contain protien 1 removed\n",
    "3. Train again with indices that contain protien 2 removed \n",
    "4. Use the true and predicted values from the two rounds of testing together to calculate c-index"
   ]
  },
  {
   "cell_type": "code",
   "execution_count": 8,
   "metadata": {},
   "outputs": [
    {
     "name": "stdout",
     "output_type": "stream",
     "text": [
      "\n",
      "Modified Case B LOOCV Cindex = 0.696563088512241\n"
     ]
    }
   ],
   "source": [
    "k=1\n",
    "knn = KNeighborsClassifier(n_neighbors=k)\n",
    "my_predictions=[]\n",
    "my_tests=[]\n",
    "\n",
    "for a in range(len(pairsdf)):\n",
    "    \n",
    "    #set xtest and y test\n",
    "    xtest=featuresdf.iloc[a,:]\n",
    "    ytest=labelsdf.iloc[a,:]\n",
    "    \n",
    "    #get pairs for case B protien 1\n",
    "    caseB_protien1 = pairsdf[(pairsdf.iloc[:,0] == pairsdf.iloc[a,0]) | (pairsdf.iloc[:,1] == pairsdf.iloc[a,0])].index\n",
    "    \n",
    "    # set xtrain and ytrain by removing indexes that contain protien 1/ and pairs that contain both p1 and p2 together\n",
    "    xtrain=featuresdf.drop(caseB_protien1)\n",
    "    ytrain= labelsdf.drop(caseB_protien1).values.ravel()\n",
    "    \n",
    "    #train classifier\n",
    "    knn.fit(xtrain,ytrain)\n",
    "    #get predictions\n",
    "    ypred=knn.predict(np.array(xtest).reshape(1, -1))\n",
    "    #append true and predicted values to lists\n",
    "    my_tests.append(ytest.values)\n",
    "    my_predictions.append(ypred.flatten())\n",
    "    \n",
    "    #get pairs for case B protien 2\n",
    "    caseB_protien2 = pairsdf[(pairsdf.iloc[:,0] == pairsdf.iloc[a,1]) | (pairsdf.iloc[:,1] == pairsdf.iloc[a,1])].index\n",
    "    \n",
    "    # set xtrain and ytrain by removing indexes that contain protien 2/ and pairs that contain both p1 and p2 together\n",
    "    xtrain=featuresdf.drop(caseB_protien2)\n",
    "    ytrain= labelsdf.drop(caseB_protien2).values.ravel()\n",
    "    \n",
    "    #train classifier\n",
    "    knn.fit(xtrain,ytrain)\n",
    "    #get predictions\n",
    "    ypred=knn.predict(np.array(xtest).reshape(1, -1))\n",
    "    #append true and predicted values to lists\n",
    "    my_tests.append(ytest.values)\n",
    "    my_predictions.append(ypred.flatten())\n",
    "    \n",
    "caseB_cindex=cindex(my_tests,my_predictions)\n",
    "print (\"\")\n",
    "print (\"Modified Case B LOOCV Cindex =\",caseB_cindex)"
   ]
  },
  {
   "cell_type": "markdown",
   "metadata": {},
   "source": [
    "### Task 2 bonus answers:\n",
    "\n",
    "1. Explain why your cross-validation scheme is appropriate:\n",
    "\n",
    " Case B was a scenario where only one of the two protiens in the test pair was present in the training set. In order to implement this you have to train your model with all the pairs that contain one of the two protiens in the test set. Then you must train the model again but this time with the other protien that was previously excluded.\n",
    "\n",
    "\n",
    "2. Discuss your results. In particular, compare the results to those you obtained in the first task and give reasons for any similarities or differences you observe:\n",
    "\n",
    "It would make logical sense that the c-index score of Case B would be inbetween that of Case A and case C. This is because in case A you have both protien pairs present in the test and training set. Which would lead to the best results because of the similarity between the test and training set. In case C you have no shared information between the test and training set. Finally, in case B you share some information between the test and train set but not as much as case A and not as little as case C."
   ]
  }
 ],
 "metadata": {
  "kernelspec": {
   "display_name": "Python 3",
   "language": "python",
   "name": "python3"
  },
  "language_info": {
   "codemirror_mode": {
    "name": "ipython",
    "version": 3
   },
   "file_extension": ".py",
   "mimetype": "text/x-python",
   "name": "python",
   "nbconvert_exporter": "python",
   "pygments_lexer": "ipython3",
   "version": "3.7.3"
  },
  "toc": {
   "base_numbering": 1,
   "nav_menu": {},
   "number_sections": true,
   "sideBar": true,
   "skip_h1_title": false,
   "title_cell": "Table of Contents",
   "title_sidebar": "Contents",
   "toc_cell": false,
   "toc_position": {},
   "toc_section_display": true,
   "toc_window_display": false
  },
  "varInspector": {
   "cols": {
    "lenName": 16,
    "lenType": 16,
    "lenVar": 40
   },
   "kernels_config": {
    "python": {
     "delete_cmd_postfix": "",
     "delete_cmd_prefix": "del ",
     "library": "var_list.py",
     "varRefreshCmd": "print(var_dic_list())"
    },
    "r": {
     "delete_cmd_postfix": ") ",
     "delete_cmd_prefix": "rm(",
     "library": "var_list.r",
     "varRefreshCmd": "cat(var_dic_list()) "
    }
   },
   "types_to_exclude": [
    "module",
    "function",
    "builtin_function_or_method",
    "instance",
    "_Feature"
   ],
   "window_display": false
  }
 },
 "nbformat": 4,
 "nbformat_minor": 2
}
