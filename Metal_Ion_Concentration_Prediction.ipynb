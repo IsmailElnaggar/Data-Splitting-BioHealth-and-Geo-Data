{
 "cells": [
  {
   "cell_type": "markdown",
   "metadata": {},
   "source": [
    "Ismail Elnaggar <br>\n",
    "student number 519208 <br>\n",
    "imelna@utu.fi  <br>\n",
    "January, 29th, 2020  <br>"
   ]
  },
  {
   "cell_type": "markdown",
   "metadata": {},
   "source": [
    "# Exercise 2 | TKO_2096 Application of Data Analysis 2020"
   ]
  },
  {
   "cell_type": "markdown",
   "metadata": {},
   "source": [
    "#### Prediction of the metal ion content from multi-parameter data <br>\n",
    "- Use K-Nearest Neighbor Regression with euclidean distance to predict total metal concentration (c_total), concentration of Cadmium (Cd) and concentration of Lead (Pb), for each sample using number of neighbors k = 3.<br> <br>\n",
    "\n",
    "    - You may use Nearest Neighbor Regression from https://scikit-learn.org/stable/modules/neighbors.html\n",
    "    - The data should be standarized using z-score.\n",
    "    - Implement your own Leave-One-Out cross-validation and calculate the C-index for each output (c_total, Cd, Pb). \n",
    "    - Implement your own Leave-Replicas-Out cross-validation and calculate the C-index for each output (c_total, Cd, Pb).\n",
    "    - This exercise provides a bonus point: see \"Bonus exercise\" in this notebook for details.\n",
    "    - Return your solution as a Jupyter Notebook file (include your full name in the file name).\n",
    "    - Submit to moodle your solution on **Wednesday 29. of January** at the latest."
   ]
  },
  {
   "cell_type": "markdown",
   "metadata": {},
   "source": [
    "## Import libraries"
   ]
  },
  {
   "cell_type": "code",
   "execution_count": 2,
   "metadata": {},
   "outputs": [],
   "source": [
    "#In this cell import all libraries you need. For example: \n",
    "import numpy as np\n",
    "import pandas as pd\n",
    "import matplotlib.pyplot as plt\n",
    "import warnings\n",
    "warnings.filterwarnings('ignore') # doing this because I was getting a pandas warning from slicing a copy\n",
    "\n",
    "from sklearn.neighbors import KNeighborsRegressor"
   ]
  },
  {
   "cell_type": "markdown",
   "metadata": {},
   "source": [
    "## Read and visualize the dataset"
   ]
  },
  {
   "cell_type": "code",
   "execution_count": 3,
   "metadata": {},
   "outputs": [
    {
     "name": "stdout",
     "output_type": "stream",
     "text": [
      "The shape of our Water data is: (225, 6) \n",
      "\n",
      "   c_total     Cd      Pb    Mod1  Mod2    Mod3\n",
      "0     2000  800.0  1200.0  126430  2604    6996\n",
      "1       35   14.0    21.0   20597   271  138677\n",
      "2       35   14.0    21.0   24566   269  161573\n",
      "3       35   35.0     0.0  105732   971  132590\n",
      "4      100   20.0    80.0   57774  5416   93798\n"
     ]
    }
   ],
   "source": [
    "#In this cell read the file water_data.csv\n",
    "#Print the dataset dimesions (i.e. number of rows and columns)\n",
    "\n",
    "waterDF=pd.read_csv(\"C:/Users/imelna/anaconda/envs/emgEnv/ADA exercises/Water_data.csv\",header=0)\n",
    "\n",
    "print (\"The shape of our Water data is:\",waterDF.shape,\"\\n\")\n",
    "\n",
    "print (waterDF.head())"
   ]
  },
  {
   "cell_type": "markdown",
   "metadata": {},
   "source": [
    "#### To show understanding of the data, answer the following questions:\n",
    "- How many different mixtures of Cadmium (Cd) and Lead (Pb) were measured? <br>\n",
    "- How many total concentrations (c_total) were measured? <br>\n",
    "- For each c_total, how many times the measurement was repeated? To answer this question <br>\n",
    "  create a table or make a bar plot of c_total / number of repetitions "
   ]
  },
  {
   "cell_type": "code",
   "execution_count": 4,
   "metadata": {},
   "outputs": [
    {
     "name": "stdout",
     "output_type": "stream",
     "text": [
      "40 different mixtures of Cadmium (Cd) were measured \n",
      "\n",
      "40 different mixtures of Lead (Pb) were measured \n",
      "\n",
      "12 different total concentrations (c_total) were measured \n",
      "\n",
      "Table of unique c_totals and the number of occurances of each c_total:\n"
     ]
    },
    {
     "data": {
      "text/html": [
       "<style  type=\"text/css\" >\n",
       "</style><table id=\"T_1f510786_4d96_11ea_b0be_f859716cbdf7\" ><thead>    <tr>        <th class=\"col_heading level0 col0\" >Unique c_totals</th>        <th class=\"col_heading level0 col1\" ># of Repetitions</th>    </tr></thead><tbody>\n",
       "                <tr>\n",
       "                                <td id=\"T_1f510786_4d96_11ea_b0be_f859716cbdf7row0_col0\" class=\"data row0 col0\" >200</td>\n",
       "                        <td id=\"T_1f510786_4d96_11ea_b0be_f859716cbdf7row0_col1\" class=\"data row0 col1\" >24</td>\n",
       "            </tr>\n",
       "            <tr>\n",
       "                                <td id=\"T_1f510786_4d96_11ea_b0be_f859716cbdf7row1_col0\" class=\"data row1 col0\" >100</td>\n",
       "                        <td id=\"T_1f510786_4d96_11ea_b0be_f859716cbdf7row1_col1\" class=\"data row1 col1\" >24</td>\n",
       "            </tr>\n",
       "            <tr>\n",
       "                                <td id=\"T_1f510786_4d96_11ea_b0be_f859716cbdf7row2_col0\" class=\"data row2 col0\" >70</td>\n",
       "                        <td id=\"T_1f510786_4d96_11ea_b0be_f859716cbdf7row2_col1\" class=\"data row2 col1\" >24</td>\n",
       "            </tr>\n",
       "            <tr>\n",
       "                                <td id=\"T_1f510786_4d96_11ea_b0be_f859716cbdf7row3_col0\" class=\"data row3 col0\" >50</td>\n",
       "                        <td id=\"T_1f510786_4d96_11ea_b0be_f859716cbdf7row3_col1\" class=\"data row3 col1\" >24</td>\n",
       "            </tr>\n",
       "            <tr>\n",
       "                                <td id=\"T_1f510786_4d96_11ea_b0be_f859716cbdf7row4_col0\" class=\"data row4 col0\" >500</td>\n",
       "                        <td id=\"T_1f510786_4d96_11ea_b0be_f859716cbdf7row4_col1\" class=\"data row4 col1\" >18</td>\n",
       "            </tr>\n",
       "            <tr>\n",
       "                                <td id=\"T_1f510786_4d96_11ea_b0be_f859716cbdf7row5_col0\" class=\"data row5 col0\" >1000</td>\n",
       "                        <td id=\"T_1f510786_4d96_11ea_b0be_f859716cbdf7row5_col1\" class=\"data row5 col1\" >18</td>\n",
       "            </tr>\n",
       "            <tr>\n",
       "                                <td id=\"T_1f510786_4d96_11ea_b0be_f859716cbdf7row6_col0\" class=\"data row6 col0\" >2000</td>\n",
       "                        <td id=\"T_1f510786_4d96_11ea_b0be_f859716cbdf7row6_col1\" class=\"data row6 col1\" >18</td>\n",
       "            </tr>\n",
       "            <tr>\n",
       "                                <td id=\"T_1f510786_4d96_11ea_b0be_f859716cbdf7row7_col0\" class=\"data row7 col0\" >5000</td>\n",
       "                        <td id=\"T_1f510786_4d96_11ea_b0be_f859716cbdf7row7_col1\" class=\"data row7 col1\" >18</td>\n",
       "            </tr>\n",
       "            <tr>\n",
       "                                <td id=\"T_1f510786_4d96_11ea_b0be_f859716cbdf7row8_col0\" class=\"data row8 col0\" >35</td>\n",
       "                        <td id=\"T_1f510786_4d96_11ea_b0be_f859716cbdf7row8_col1\" class=\"data row8 col1\" >18</td>\n",
       "            </tr>\n",
       "            <tr>\n",
       "                                <td id=\"T_1f510786_4d96_11ea_b0be_f859716cbdf7row9_col0\" class=\"data row9 col0\" >20</td>\n",
       "                        <td id=\"T_1f510786_4d96_11ea_b0be_f859716cbdf7row9_col1\" class=\"data row9 col1\" >18</td>\n",
       "            </tr>\n",
       "            <tr>\n",
       "                                <td id=\"T_1f510786_4d96_11ea_b0be_f859716cbdf7row10_col0\" class=\"data row10 col0\" >14</td>\n",
       "                        <td id=\"T_1f510786_4d96_11ea_b0be_f859716cbdf7row10_col1\" class=\"data row10 col1\" >18</td>\n",
       "            </tr>\n",
       "            <tr>\n",
       "                                <td id=\"T_1f510786_4d96_11ea_b0be_f859716cbdf7row11_col0\" class=\"data row11 col0\" >0</td>\n",
       "                        <td id=\"T_1f510786_4d96_11ea_b0be_f859716cbdf7row11_col1\" class=\"data row11 col1\" >3</td>\n",
       "            </tr>\n",
       "    </tbody></table>"
      ],
      "text/plain": [
       "<pandas.io.formats.style.Styler at 0x20fe3629080>"
      ]
     },
     "metadata": {},
     "output_type": "display_data"
    }
   ],
   "source": [
    "#In this cell write the code to answer the previous questions and print the answers.\n",
    "\n",
    "print (\"{0} different mixtures of Cadmium (Cd) were measured\".format(len(waterDF[\"Cd\"].unique())),\"\\n\")\n",
    "print (\"{0} different mixtures of Lead (Pb) were measured\".format(len(waterDF[\"Pb\"].unique())),\"\\n\")\n",
    "print (\"{0} different total concentrations (c_total) were measured\".format(len(waterDF[\"c_total\"].unique())),\"\\n\")\n",
    "\n",
    "#table\n",
    "count_ctotal=pd.DataFrame(waterDF[\"c_total\"].value_counts())\n",
    "count_ctotal.rename(columns={\"c_total\": \"# of Repetitions\"},inplace=True)\n",
    "count_ctotal.insert(0, \"Unique c_totals\", count_ctotal.index)\n",
    "\n",
    "print(\"Table of unique c_totals and the number of occurances of each c_total:\")\n",
    "display(count_ctotal.style.hide_index())\n"
   ]
  },
  {
   "cell_type": "markdown",
   "metadata": {},
   "source": [
    "## Standardization of the dataset"
   ]
  },
  {
   "cell_type": "code",
   "execution_count": 5,
   "metadata": {},
   "outputs": [
    {
     "name": "stdout",
     "output_type": "stream",
     "text": [
      "   c_total     Cd      Pb  Mod1_zscore  Mod2_zscore  Mod3_zscore\n",
      "0     2000  800.0  1200.0     0.166505    -0.508756    -1.499041\n",
      "1       35   14.0    21.0    -0.892616    -0.701641     0.685861\n",
      "2       35   14.0    21.0    -0.852896    -0.701806     1.065760\n",
      "3       35   35.0     0.0    -0.040629    -0.643767     0.584863\n",
      "4      100   20.0    80.0    -0.520568    -0.276268    -0.058789\n"
     ]
    }
   ],
   "source": [
    "#Standardize the dataset features by removing the mean and scaling to unit variance. \n",
    "#In other words, use z-score to scale the dataset features (Mod1, Mod2, Mod3) \n",
    "#Print the 5 first samples (i.e. rows) of the scaled dataset\n",
    "\n",
    "cols = [\"Mod1\", \"Mod2\", \"Mod3\"]\n",
    "for col in cols:\n",
    "    col_zscore = col + '_zscore'\n",
    "    waterDF[col_zscore] = (waterDF[col] - (waterDF[col].mean()))/(waterDF[col].std(ddof=0))\n",
    "\n",
    "water_zscore_DF=waterDF.copy() #copy just to keep original Mod's somewhere\n",
    "water_zscore_DF.drop(cols,inplace=True,axis=1)\n",
    "\n",
    "print (water_zscore_DF.head())"
   ]
  },
  {
   "cell_type": "markdown",
   "metadata": {},
   "source": [
    "## C-index code "
   ]
  },
  {
   "cell_type": "code",
   "execution_count": 6,
   "metadata": {},
   "outputs": [],
   "source": [
    "def cindex(true_labels, pred_labels):\n",
    "    \"\"\"Returns C-index between true labels and predicted labels\"\"\" \n",
    "    n = 0\n",
    "    n_sum = 0\n",
    "    for i in range(len(true_labels)):\n",
    "        t = true_labels[i]\n",
    "        p = pred_labels[i]\n",
    "        for j in range(i+1,len(true_labels)):\n",
    "            nt = true_labels[j]\n",
    "            np = pred_labels[j]\n",
    "            if t != nt:\n",
    "                n += 1\n",
    "                if (p < np and t < nt) or (p > np and t > nt):\n",
    "                        n_sum +=  1\n",
    "                elif p == np:\n",
    "                    n_sum += 0.5     \n",
    "    return (n_sum/n)"
   ]
  },
  {
   "cell_type": "code",
   "execution_count": 7,
   "metadata": {},
   "outputs": [
    {
     "name": "stdout",
     "output_type": "stream",
     "text": [
      "0.75\n"
     ]
    }
   ],
   "source": [
    "#test cindex function with following values\n",
    "true_labels = [-1, 1, 1, -1, 1]\n",
    "predictions = [0.60, 0.80, 0.75, 0.75, 0.70]\n",
    "cindx = cindex(true_labels, predictions)\n",
    "print(cindx)"
   ]
  },
  {
   "cell_type": "markdown",
   "metadata": {},
   "source": [
    "## Functions"
   ]
  },
  {
   "cell_type": "code",
   "execution_count": 8,
   "metadata": {},
   "outputs": [],
   "source": [
    "#Include here all the functions that you need to run in the data analysis part.\n",
    "\n",
    "def grouper(data,group,grouplabel):\n",
    "    \"\"\" function to assign group numbers based on the the unique values in a column\n",
    "    inputs\n",
    "    ------\n",
    "        data: pandas dataframe\n",
    "        group: which column to use to group by (str input)\n",
    "        grouplabel: name for group column (str input)\n",
    "    \n",
    "    \"\"\"\n",
    "    \n",
    "    data[grouplabel] = pd.factorize(data[group])[0] + 1\n"
   ]
  },
  {
   "cell_type": "markdown",
   "metadata": {},
   "source": [
    "### Testing grouper function"
   ]
  },
  {
   "cell_type": "code",
   "execution_count": 9,
   "metadata": {},
   "outputs": [
    {
     "name": "stdout",
     "output_type": "stream",
     "text": [
      "   c_total  Mod1_zscore  Mod1_zscore  Mod1_zscore  group\n",
      "0     2000     0.166505     0.166505     0.166505      1\n",
      "1       35    -0.892616    -0.892616    -0.892616      2\n",
      "2       35    -0.852896    -0.852896    -0.852896      2\n",
      "3       35    -0.040629    -0.040629    -0.040629      2\n",
      "4      100    -0.520568    -0.520568    -0.520568      3\n"
     ]
    }
   ],
   "source": [
    "testdf=water_zscore_DF[[\"c_total\",\"Mod1_zscore\",\"Mod1_zscore\",\"Mod1_zscore\" ]]\n",
    "grouper(testdf,\"c_total\",\"group\")\n",
    "print (testdf.head())"
   ]
  },
  {
   "cell_type": "markdown",
   "metadata": {},
   "source": [
    "## Results for Leave-One-Out cross-validation\n",
    "\n",
    "1. Use K-Nearest Neighbor Regression to predict total metal concentration (c_total), concentration of Cadmium (Cd) and concentration of Lead (Pb), for each sample using number of neighbors k = 3.\n",
    "\n",
    "2. The data should be standardized using z-score.\n",
    "\n",
    "3. Implement Leave-One-Out Cross Validation approach and calculate the C-index for each output (c-total, Cd, Pb). \n"
   ]
  },
  {
   "cell_type": "code",
   "execution_count": 10,
   "metadata": {},
   "outputs": [
    {
     "name": "stdout",
     "output_type": "stream",
     "text": [
      "0 [1, 2, 3, 4, 5, 6, 7, 8, 9]\n",
      "1 [0, 2, 3, 4, 5, 6, 7, 8, 9]\n",
      "2 [0, 1, 3, 4, 5, 6, 7, 8, 9]\n",
      "3 [0, 1, 2, 4, 5, 6, 7, 8, 9]\n",
      "4 [0, 1, 2, 3, 5, 6, 7, 8, 9]\n",
      "5 [0, 1, 2, 3, 4, 6, 7, 8, 9]\n",
      "6 [0, 1, 2, 3, 4, 5, 7, 8, 9]\n",
      "7 [0, 1, 2, 3, 4, 5, 6, 8, 9]\n",
      "8 [0, 1, 2, 3, 4, 5, 6, 7, 9]\n",
      "9 [0, 1, 2, 3, 4, 5, 6, 7, 8]\n"
     ]
    }
   ],
   "source": [
    "### this is basically how leave one out would work.\n",
    "mylist=list(range(10))\n",
    "for i in range(len(mylist)):\n",
    "    xtest=i\n",
    "    xtrain=mylist[:i]+mylist[i+1:]\n",
    "    print (xtest,xtrain)"
   ]
  },
  {
   "cell_type": "code",
   "execution_count": 13,
   "metadata": {},
   "outputs": [
    {
     "name": "stdout",
     "output_type": "stream",
     "text": [
      "C-total Cindex = 0.9141907740422205\n",
      "Cd Cindex = 0.8995907629348144\n",
      "Pb Cindex = 0.8744519146448407\n"
     ]
    }
   ],
   "source": [
    "#In this cell run your code for leave-One-Out cross-validation and print the corresponding results.\n",
    "\n",
    "#constant values\n",
    "k=3\n",
    "knn = KNeighborsRegressor(n_neighbors=k)\n",
    "features=[\"Mod1_zscore\",\"Mod2_zscore\",\"Mod3_zscore\"]\n",
    "\n",
    "###### C-Total ######\n",
    "\n",
    "target=[\"c_total\"]\n",
    "ctotal_predictions=[]\n",
    "ctotal_tests=[]\n",
    "ctotalDF=water_zscore_DF[[\"c_total\",\"Mod1_zscore\",\"Mod2_zscore\",\"Mod3_zscore\" ]] #data frame selecting target and features\n",
    "\n",
    "for i in range(len(ctotalDF)):\n",
    "    \n",
    "    xtest=ctotalDF[features].iloc[i]\n",
    "    ytest=ctotalDF[target].iloc[i]\n",
    "    xtrain=pd.concat([ctotalDF[features].iloc[:i],ctotalDF[features].iloc[i+1:]])       \n",
    "    ytrain=pd.concat([ctotalDF[target].iloc[:i],ctotalDF[target].iloc[i+1:]])\n",
    "    \n",
    "    #train regressor\n",
    "    knn.fit(xtrain,ytrain)\n",
    "    #get predictions\n",
    "    ypred=knn.predict(np.array(xtest).reshape(1, -1))\n",
    "    #append true and predicted values to lists\n",
    "    ctotal_tests.append(ytest.values)\n",
    "    ctotal_predictions.append(ypred.flatten())\n",
    "\n",
    "ctotal_cindex=cindex(ctotal_tests,ctotal_predictions)\n",
    "print (\"C-total Cindex =\",ctotal_cindex)\n",
    "\n",
    "\n",
    "###### Cd ######\n",
    "\n",
    "target=[\"Cd\"]\n",
    "Cd_predictions=[]\n",
    "Cd_tests=[]\n",
    "CdDF=water_zscore_DF[[\"Cd\",\"Mod1_zscore\",\"Mod2_zscore\",\"Mod3_zscore\" ]]  #data frame selecting target and features\n",
    "\n",
    "for i in range(len(CdDF)):\n",
    "    \n",
    "    xtest=CdDF[features].iloc[i]\n",
    "    ytest=CdDF[target].iloc[i]\n",
    "    xtrain=pd.concat([CdDF[features].iloc[:i],CdDF[features].iloc[i+1:]])       \n",
    "    ytrain=pd.concat([CdDF[target].iloc[:i],CdDF[target].iloc[i+1:]])\n",
    "    \n",
    "    #train regressor\n",
    "    knn.fit(xtrain,ytrain)\n",
    "    #get predictions\n",
    "    ypred=knn.predict(np.array(xtest).reshape(1, -1))\n",
    "    #append true and predicted values to lists\n",
    "    Cd_tests.append(ytest.values)\n",
    "    Cd_predictions.append(ypred.flatten())\n",
    "    \n",
    "Cd_cindex=cindex(Cd_tests,Cd_predictions)\n",
    "print (\"Cd Cindex =\",Cd_cindex)\n",
    "\n",
    "\n",
    "###### Pb ######\n",
    "\n",
    "target=[\"Pb\"]\n",
    "Pb_predictions=[]\n",
    "Pb_tests=[]\n",
    "PbDF=water_zscore_DF[[\"Pb\",\"Mod1_zscore\",\"Mod2_zscore\",\"Mod3_zscore\" ]]  #data frame selecting target and features\n",
    "\n",
    "for i in range(len(PbDF)):\n",
    "    \n",
    "    xtest=PbDF[features].iloc[i]\n",
    "    ytest=PbDF[target].iloc[i]\n",
    "    xtrain=pd.concat([PbDF[features].iloc[:i],PbDF[features].iloc[i+1:]])       \n",
    "    ytrain=pd.concat([PbDF[target].iloc[:i],PbDF[target].iloc[i+1:]])\n",
    "    \n",
    "    #train regressor\n",
    "    knn.fit(xtrain,ytrain)\n",
    "    #get predictions\n",
    "    ypred=knn.predict(np.array(xtest).reshape(1, -1))\n",
    "    #append true and predicted values to lists\n",
    "    Pb_tests.append(ytest.values)\n",
    "    Pb_predictions.append(ypred.flatten())\n",
    "    \n",
    "Pb_cindex=cindex(Pb_tests,Pb_predictions)\n",
    "print (\"Pb Cindex =\",Pb_cindex)"
   ]
  },
  {
   "cell_type": "code",
   "execution_count": 14,
   "metadata": {},
   "outputs": [
    {
     "name": "stdout",
     "output_type": "stream",
     "text": [
      "[array([1200.]), array([21.]), array([21.]), array([0.]), array([80.]), array([0.]), array([8.4]), array([10.]), array([400.]), array([0.]), array([2.8]), array([600.]), array([50.]), array([2.8]), array([400.]), array([70.]), array([5000.]), array([8.]), array([14.]), array([300.]), array([70.]), array([50.]), array([200.]), array([0.]), array([1600.]), array([40.]), array([0.]), array([2000.]), array([1000.]), array([0.]), array([400.]), array([4000.]), array([100.]), array([4000.]), array([8.4]), array([300.]), array([100.]), array([0.]), array([60.]), array([11.2]), array([2.8]), array([0.]), array([0.]), array([28.]), array([0.]), array([4.]), array([400.]), array([600.]), array([12.]), array([0.]), array([35.]), array([2000.]), array([0.]), array([2000.]), array([0.]), array([20.]), array([0.]), array([12.]), array([400.]), array([20.]), array([120.]), array([200.]), array([14.]), array([28.]), array([40.]), array([16.]), array([56.]), array([1000.]), array([80.]), array([0.]), array([80.]), array([5000.]), array([80.]), array([10.]), array([160.]), array([0.]), array([7.]), array([0.]), array([200.]), array([600.]), array([0.]), array([20.]), array([200.]), array([0.]), array([0.]), array([42.]), array([40.]), array([400.]), array([20.]), array([20.]), array([11.2]), array([40.]), array([400.]), array([100.]), array([10.]), array([0.]), array([56.]), array([7.]), array([0.]), array([28.]), array([100.]), array([20.]), array([0.]), array([200.]), array([4.]), array([28.]), array([50.]), array([400.]), array([2000.]), array([20.]), array([1600.]), array([12.]), array([200.]), array([4.]), array([100.]), array([40.]), array([4000.]), array([14.]), array([14.]), array([60.]), array([30.]), array([35.]), array([14.]), array([5.6]), array([20.]), array([0.]), array([80.]), array([1000.]), array([8.]), array([0.]), array([70.]), array([30.]), array([3000.]), array([56.]), array([3000.]), array([0.]), array([40.]), array([100.]), array([0.]), array([14.]), array([0.]), array([40.]), array([28.]), array([120.]), array([7.]), array([10.]), array([0.]), array([0.]), array([800.]), array([0.]), array([21.]), array([500.]), array([14.]), array([0.]), array([40.]), array([20.]), array([60.]), array([0.]), array([800.]), array([0.]), array([8.4]), array([400.]), array([500.]), array([100.]), array([16.]), array([800.]), array([35.]), array([1200.]), array([16.]), array([800.]), array([40.]), array([160.]), array([200.]), array([1600.]), array([160.]), array([70.]), array([120.]), array([0.]), array([30.]), array([0.]), array([800.]), array([200.]), array([56.]), array([11.2]), array([500.]), array([40.]), array([8.]), array([40.]), array([28.]), array([160.]), array([30.]), array([1000.]), array([42.]), array([2000.]), array([14.]), array([80.]), array([5.6]), array([5.6]), array([42.]), array([14.]), array([14.]), array([0.]), array([0.]), array([20.]), array([0.]), array([1000.]), array([5000.]), array([42.]), array([200.]), array([0.]), array([80.]), array([60.]), array([800.]), array([3000.]), array([200.]), array([28.]), array([80.]), array([120.]), array([300.]), array([40.]), array([2000.]), array([1000.]), array([20.]), array([50.]), array([1200.])]\n"
     ]
    }
   ],
   "source": [
    "print (Pb_tests)"
   ]
  },
  {
   "cell_type": "markdown",
   "metadata": {},
   "source": [
    "## Results for Leave-Replicas-Out cross-validation\n",
    "\n",
    "1. Use K-Nearest Neighbor Regression to predict total metal concentration (c_total), concentration of Cadmium (Cd) and concentration of Lead (Pb), for each sample using number of neighbors k = 3. \n",
    "\n",
    "2. The data should be standardized using z-score.\n",
    "\n",
    "3. Implement Leave-Replicas-Out Cross Validation and calculate the C-index for each output (c-total, Cd, Pb). \n"
   ]
  },
  {
   "cell_type": "code",
   "execution_count": 16,
   "metadata": {},
   "outputs": [
    {
     "name": "stdout",
     "output_type": "stream",
     "text": [
      "C-total Cindex = 0.7811006863000608\n",
      "Cd Cindex = 0.664154173800476\n",
      "Pb Cindex = 0.7471499561531716\n"
     ]
    }
   ],
   "source": [
    "#In this cell run your script for leave-Replicas-Out cross-validation and print the corresponding results.\n",
    "\n",
    "#constants\n",
    "k=3\n",
    "knn = KNeighborsRegressor(n_neighbors=k)\n",
    "features=[\"Mod1_zscore\",\"Mod2_zscore\",\"Mod3_zscore\"]\n",
    "\n",
    "###### C-Total ######\n",
    "\n",
    "target=[\"c_total\"]\n",
    "ctotal_predictions=[]\n",
    "ctotal_tests=[]\n",
    "ctotaldf=water_zscore_DF[target+features]\n",
    "\n",
    "#grouper function to add int numbered groups\n",
    "grouper(ctotaldf,\"c_total\",\"group\")\n",
    "myfolds=int(ctotaldf[target].nunique())\n",
    "\n",
    "#because I added integer groups to dataframe, I can just iterate through the group numbers in a loop\n",
    "for i in range(1,myfolds+1):\n",
    "    #get the test group\n",
    "    testgroup=ctotaldf[ctotaldf.group == i]\n",
    "    xtest=testgroup[features]\n",
    "    ytest=testgroup[target]\n",
    "    #get all other groups\n",
    "    traingroup=ctotaldf[ctotaldf.group != i]\n",
    "    xtrain=traingroup[features]\n",
    "    ytrain=traingroup[target]\n",
    "    \n",
    "    #train regressor\n",
    "    knn.fit(xtrain,ytrain)\n",
    "    #get predictions\n",
    "    ypred=knn.predict(np.array(xtest))\n",
    "    #extend true and predicted values onto the empty lists\n",
    "    ctotal_tests.extend(np.array(ytest).flatten())\n",
    "    ctotal_predictions.extend(ypred.flatten())\n",
    "    \n",
    "ctotal_cindex=cindex(ctotal_tests,ctotal_predictions)  #apply cindex function to true and predicted values\n",
    "print (\"C-total Cindex =\",ctotal_cindex)\n",
    "\n",
    "\n",
    "###### Cd ######\n",
    "\n",
    "target=[\"Cd\"]\n",
    "cd_predictions=[]\n",
    "cd_tests=[]\n",
    "cddf=water_zscore_DF[target+features]\n",
    "\n",
    "#grouper function to add int numbered groups\n",
    "grouper(cddf,\"Cd\",\"group\")\n",
    "myfolds=int(cddf[target].nunique())\n",
    "\n",
    "#because I added integer groups to dataframe, I can just iterate through the group numbers in a loop\n",
    "for i in range(1,myfolds+1):\n",
    "    #get the test group\n",
    "    testgroup=cddf[cddf.group == i]\n",
    "    xtest=testgroup[features]\n",
    "    ytest=testgroup[target]\n",
    "    #get all other groups\n",
    "    traingroup=cddf[cddf.group != i]\n",
    "    xtrain=traingroup[features]\n",
    "    ytrain=traingroup[target]\n",
    "    \n",
    "    #train regressor\n",
    "    knn.fit(xtrain,ytrain)\n",
    "    #get predictions\n",
    "    ypred=knn.predict(np.array(xtest))\n",
    "    #extend true and predicted values onto the empty lists\n",
    "    cd_tests.extend(np.array(ytest).flatten())\n",
    "    cd_predictions.extend(ypred.flatten())\n",
    "    \n",
    "cd_cindex=cindex(cd_tests,cd_predictions)  #apply cindex function to true and predicted values\n",
    "print (\"Cd Cindex =\",cd_cindex)\n",
    "\n",
    "\n",
    "###### Pb ######\n",
    "\n",
    "target=[\"Pb\"]\n",
    "pb_predictions=[]\n",
    "pb_tests=[]\n",
    "pbdf=water_zscore_DF[target+features]\n",
    "\n",
    "#grouper function to add int numbered groups\n",
    "grouper(pbdf,\"Pb\",\"group\")\n",
    "myfolds=int(pbdf[target].nunique())\n",
    "\n",
    "#because I added integer groups to dataframe, I can just iterate through the group numbers in a loop\n",
    "for i in range(1,myfolds+1):\n",
    "    #get the test group\n",
    "    testgroup=pbdf[pbdf.group == i]\n",
    "    xtest=testgroup[features]\n",
    "    ytest=testgroup[target]\n",
    "    #get all other groups\n",
    "    traingroup=pbdf[pbdf.group != i]\n",
    "    xtrain=traingroup[features]\n",
    "    ytrain=traingroup[target]\n",
    "    \n",
    "    #train regressor\n",
    "    knn.fit(xtrain,ytrain)\n",
    "    #get predictions\n",
    "    ypred=knn.predict(np.array(xtest))\n",
    "    #extend true and predicted values onto the empty lists\n",
    "    pb_tests.extend(np.array(ytest))\n",
    "    pb_predictions.extend(ypred)\n",
    "    \n",
    "pb_cindex=cindex(pb_tests,pb_predictions) #apply cindex function to true and predicted values\n",
    "print (\"Pb Cindex =\",pb_cindex)"
   ]
  },
  {
   "cell_type": "code",
   "execution_count": 17,
   "metadata": {},
   "outputs": [
    {
     "name": "stdout",
     "output_type": "stream",
     "text": [
      "[array([1200.]), array([1200.]), array([1200.]), array([21.]), array([21.]), array([21.]), array([0.]), array([0.]), array([0.]), array([0.]), array([0.]), array([0.]), array([0.]), array([0.]), array([0.]), array([0.]), array([0.]), array([0.]), array([0.]), array([0.]), array([0.]), array([0.]), array([0.]), array([0.]), array([0.]), array([0.]), array([0.]), array([0.]), array([0.]), array([0.]), array([0.]), array([0.]), array([0.]), array([0.]), array([0.]), array([0.]), array([0.]), array([0.]), array([0.]), array([0.]), array([0.]), array([0.]), array([0.]), array([0.]), array([0.]), array([0.]), array([80.]), array([80.]), array([80.]), array([80.]), array([80.]), array([80.]), array([80.]), array([80.]), array([8.4]), array([8.4]), array([8.4]), array([10.]), array([10.]), array([10.]), array([10.]), array([400.]), array([400.]), array([400.]), array([400.]), array([400.]), array([400.]), array([400.]), array([400.]), array([400.]), array([2.8]), array([2.8]), array([2.8]), array([600.]), array([600.]), array([600.]), array([50.]), array([50.]), array([50.]), array([50.]), array([70.]), array([70.]), array([70.]), array([70.]), array([5000.]), array([5000.]), array([5000.]), array([8.]), array([8.]), array([8.]), array([14.]), array([14.]), array([14.]), array([14.]), array([14.]), array([14.]), array([14.]), array([14.]), array([14.]), array([14.]), array([300.]), array([300.]), array([300.]), array([200.]), array([200.]), array([200.]), array([200.]), array([200.]), array([200.]), array([200.]), array([200.]), array([200.]), array([200.]), array([1600.]), array([1600.]), array([1600.]), array([40.]), array([40.]), array([40.]), array([40.]), array([40.]), array([40.]), array([40.]), array([40.]), array([40.]), array([40.]), array([40.]), array([40.]), array([2000.]), array([2000.]), array([2000.]), array([2000.]), array([2000.]), array([2000.]), array([1000.]), array([1000.]), array([1000.]), array([1000.]), array([1000.]), array([1000.]), array([4000.]), array([4000.]), array([4000.]), array([100.]), array([100.]), array([100.]), array([100.]), array([100.]), array([100.]), array([100.]), array([60.]), array([60.]), array([60.]), array([60.]), array([11.2]), array([11.2]), array([11.2]), array([28.]), array([28.]), array([28.]), array([28.]), array([28.]), array([28.]), array([28.]), array([4.]), array([4.]), array([4.]), array([12.]), array([12.]), array([12.]), array([35.]), array([35.]), array([35.]), array([20.]), array([20.]), array([20.]), array([20.]), array([20.]), array([20.]), array([20.]), array([20.]), array([20.]), array([20.]), array([20.]), array([120.]), array([120.]), array([120.]), array([120.]), array([16.]), array([16.]), array([16.]), array([56.]), array([56.]), array([56.]), array([56.]), array([160.]), array([160.]), array([160.]), array([160.]), array([7.]), array([7.]), array([7.]), array([42.]), array([42.]), array([42.]), array([42.]), array([30.]), array([30.]), array([30.]), array([30.]), array([5.6]), array([5.6]), array([5.6]), array([3000.]), array([3000.]), array([3000.]), array([800.]), array([800.]), array([800.]), array([800.]), array([800.]), array([800.]), array([500.]), array([500.]), array([500.])]\n"
     ]
    }
   ],
   "source": [
    "print (pb_tests)"
   ]
  },
  {
   "cell_type": "markdown",
   "metadata": {},
   "source": [
    "## Interpretation of results"
   ]
  },
  {
   "cell_type": "markdown",
   "metadata": {},
   "source": [
    "#### Which cross-validation approach had more optimistic results?:\n",
    "\n",
    "Leave-one-out CV(LOOCV) had more optimistic results. This is because LOOCV will just use one sample as a test which will be overly optimistic.This is due to the fact that the training data will include samples related to the test sample. This will cause \"leakage\" of data related to the test sample into the training data. You can see this when you compare the C-index scores of LOOCV to the C-index scores of LROCV.\n",
    "\n",
    "#### Which cross-validation generalize better on unseen data? Why?:\n",
    "\n",
    "Leave-replicas-out CV (LROCV) generalized better to unseen data because in each round of testing the test set included data that was completely unrelated to any of the training data. This provided a more generalized model with less bias. This is also more in line to how models would be created in the real world. Most of the time multiple data samples can be taken from the same source. In this case it was water samples with the same concentration of ions added to it. In another setting it could be biosignal data taken from the same patient multiple times over a set time span. \n"
   ]
  },
  {
   "cell_type": "markdown",
   "metadata": {},
   "source": [
    "## Bonus exercise\n",
    "Using K-Nearest Neighbor Regression where k = 1, 2, 3, 4, 5 compute the corresponding C-indices for the outputs (c_total, Cd, Pb) with Leave-One-Out and with Leave-Replicas-Out cross-validation. Plot your results as k / C-index for each output. "
   ]
  },
  {
   "cell_type": "markdown",
   "metadata": {},
   "source": [
    "### Leave one out CV Bonus"
   ]
  },
  {
   "cell_type": "code",
   "execution_count": 12,
   "metadata": {},
   "outputs": [],
   "source": [
    "#constant values\n",
    "k=[1,2,3,4,5]\n",
    "features=[\"Mod1_zscore\",\"Mod2_zscore\",\"Mod3_zscore\"]\n",
    "\n",
    "###### C-Total ######\n",
    "ctotal_cindex_looscores=[]\n",
    "for ks in k:\n",
    "    knn = KNeighborsRegressor(n_neighbors=ks)\n",
    "    target=[\"c_total\"]\n",
    "    ctotal_predictions=[]\n",
    "    ctotal_tests=[]\n",
    "    ctotalDF=water_zscore_DF[[\"c_total\",\"Mod1_zscore\",\"Mod2_zscore\",\"Mod3_zscore\" ]] #data frame selecting target and features\n",
    "\n",
    "    for i in range(len(ctotalDF)):\n",
    "    \n",
    "        xtest=ctotalDF[features].iloc[i]\n",
    "        ytest=ctotalDF[target].iloc[i]\n",
    "        xtrain=pd.concat([ctotalDF[features].iloc[:i],ctotalDF[features].iloc[i+1:]])       \n",
    "        ytrain=pd.concat([ctotalDF[target].iloc[:i],ctotalDF[target].iloc[i+1:]])\n",
    "    \n",
    "        #train regressor\n",
    "        knn.fit(xtrain,ytrain)\n",
    "        #get predictions\n",
    "        ypred=knn.predict(np.array(xtest).reshape(1, -1))\n",
    "        #append true and predicted values to lists\n",
    "        ctotal_tests.append(ytest.values)\n",
    "        ctotal_predictions.append(ypred.flatten())\n",
    "    ctotal_cindex=cindex(ctotal_tests,ctotal_predictions)\n",
    "    ctotal_cindex_looscores.append(ctotal_cindex)\n",
    "    #print (\"C-total Cindex =\",ctotal_cindex,\"for K =\",ks)\n",
    "\n",
    "\n",
    "\n",
    "###### Cd ######\n",
    "cd_cindex_looscores=[]\n",
    "for ks in k:\n",
    "    knn = KNeighborsRegressor(n_neighbors=ks)\n",
    "    target=[\"Cd\"]\n",
    "    Cd_predictions=[]\n",
    "    Cd_tests=[]\n",
    "    CdDF=water_zscore_DF[[\"Cd\",\"Mod1_zscore\",\"Mod2_zscore\",\"Mod3_zscore\" ]]  #data frame selecting target and features\n",
    "\n",
    "    for i in range(len(CdDF)):\n",
    "    \n",
    "        xtest=CdDF[features].iloc[i]\n",
    "        ytest=CdDF[target].iloc[i]\n",
    "        xtrain=pd.concat([CdDF[features].iloc[:i],CdDF[features].iloc[i+1:]])       \n",
    "        ytrain=pd.concat([CdDF[target].iloc[:i],CdDF[target].iloc[i+1:]])\n",
    "    \n",
    "        #train regressor\n",
    "        knn.fit(xtrain,ytrain)\n",
    "        #get predictions\n",
    "        ypred=knn.predict(np.array(xtest).reshape(1, -1))\n",
    "        #append true and predicted values to lists\n",
    "        Cd_tests.append(ytest.values)\n",
    "        Cd_predictions.append(ypred.flatten())\n",
    "    \n",
    "    Cd_cindex=cindex(Cd_tests,Cd_predictions)\n",
    "    cd_cindex_looscores.append(Cd_cindex)\n",
    "    #print (\"Cd Cindex =\",Cd_cindex,\"for k =\",ks)\n",
    "\n",
    "\n",
    "###### Pb ######\n",
    "pb_cindex_looscores=[]\n",
    "for ks in k:\n",
    "    knn = KNeighborsRegressor(n_neighbors=ks)\n",
    "    target=[\"Pb\"]\n",
    "    Pb_predictions=[]\n",
    "    Pb_tests=[]\n",
    "    Pb_cindex_looscores=[]\n",
    "    PbDF=water_zscore_DF[[\"Pb\",\"Mod1_zscore\",\"Mod2_zscore\",\"Mod3_zscore\" ]]  #data frame selecting target and features\n",
    "\n",
    "    for i in range(len(PbDF)):\n",
    "    \n",
    "        xtest=PbDF[features].iloc[i]\n",
    "        ytest=PbDF[target].iloc[i]\n",
    "        xtrain=pd.concat([PbDF[features].iloc[:i],PbDF[features].iloc[i+1:]])       \n",
    "        ytrain=pd.concat([PbDF[target].iloc[:i],PbDF[target].iloc[i+1:]])\n",
    "    \n",
    "        #train regressor\n",
    "        knn.fit(xtrain,ytrain)\n",
    "        #get predictions\n",
    "        ypred=knn.predict(np.array(xtest).reshape(1, -1))\n",
    "        #append true and predicted values to lists\n",
    "        Pb_tests.append(ytest.values)\n",
    "        Pb_predictions.append(ypred.flatten())\n",
    "    \n",
    "    Pb_cindex=cindex(Pb_tests,Pb_predictions)\n",
    "    pb_cindex_looscores.append(Pb_cindex)\n",
    "    #print (\"Pb Cindex =\",Pb_cindex,\"for k = \",ks)"
   ]
  },
  {
   "cell_type": "markdown",
   "metadata": {},
   "source": [
    "### Leave-Replicas-Out CV Bonus"
   ]
  },
  {
   "cell_type": "code",
   "execution_count": 13,
   "metadata": {},
   "outputs": [],
   "source": [
    "#constants\n",
    "k=[1,2,3,4,5]\n",
    "features=[\"Mod1_zscore\",\"Mod2_zscore\",\"Mod3_zscore\"]\n",
    "features=[\"Mod1_zscore\",\"Mod2_zscore\",\"Mod3_zscore\"]\n",
    "\n",
    "###### C-Total ######\n",
    "ctotal_cindex_scores=[]\n",
    "for ks in k:\n",
    "    knn = KNeighborsRegressor(n_neighbors=ks)\n",
    "    target=[\"c_total\"]\n",
    "    ctotal_predictions=[]\n",
    "    ctotal_tests=[]\n",
    "    ctotaldf=water_zscore_DF[target+features]\n",
    "\n",
    "    #grouper function to add int numbered groups\n",
    "    grouper(ctotaldf,\"c_total\",\"group\")\n",
    "    myfolds=int(ctotaldf[target].nunique())\n",
    "\n",
    "    #because I added integer groups to dataframe, I can just iterate through the group numbers in a loop\n",
    "    for i in range(1,myfolds+1):\n",
    "        #get the test group\n",
    "        testgroup=ctotaldf[ctotaldf.group == i]\n",
    "        xtest=testgroup[features]\n",
    "        ytest=testgroup[target]\n",
    "        #get all other groups\n",
    "        traingroup=ctotaldf[ctotaldf.group != i]\n",
    "        xtrain=traingroup[features]\n",
    "        ytrain=traingroup[target]\n",
    "    \n",
    "        #train regressor\n",
    "        knn.fit(xtrain,ytrain)\n",
    "        #get predictions\n",
    "        ypred=knn.predict(np.array(xtest))\n",
    "        #extend true and predicted values onto the empty lists\n",
    "        ctotal_tests.extend(np.array(ytest).flatten())\n",
    "        ctotal_predictions.extend(ypred.flatten())\n",
    "    \n",
    "    ctotal_cindex=cindex(ctotal_tests,ctotal_predictions)  #apply cindex function to true and predicted values\n",
    "    ctotal_cindex_scores.append(ctotal_cindex)\n",
    "    #print (\"C-total Cindex =\",ctotal_cindex,\"for k =\",ks)\n",
    "\n",
    "\n",
    "###### Cd ######\n",
    "cd_cindex_scores=[]\n",
    "for ks in k:\n",
    "    knn = KNeighborsRegressor(n_neighbors=ks)\n",
    "    target=[\"Cd\"]\n",
    "    cd_predictions=[]\n",
    "    cd_tests=[]\n",
    "    cddf=water_zscore_DF[target+features]\n",
    "\n",
    "    #grouper function to add int numbered groups\n",
    "    grouper(cddf,\"Cd\",\"group\")\n",
    "    myfolds=int(cddf[target].nunique())\n",
    "\n",
    "    #because I added integer groups to dataframe, I can just iterate through the group numbers in a loop\n",
    "    for i in range(1,myfolds+1):\n",
    "        #get the test group\n",
    "        testgroup=cddf[cddf.group == i]\n",
    "        xtest=testgroup[features]\n",
    "        ytest=testgroup[target]\n",
    "        #get all other groups\n",
    "        traingroup=cddf[cddf.group != i]\n",
    "        xtrain=traingroup[features]\n",
    "        ytrain=traingroup[target]\n",
    "    \n",
    "        #train regressor\n",
    "        knn.fit(xtrain,ytrain)\n",
    "        #get predictions\n",
    "        ypred=knn.predict(np.array(xtest))\n",
    "        #extend true and predicted values onto the empty lists\n",
    "        cd_tests.extend(np.array(ytest).flatten())\n",
    "        cd_predictions.extend(ypred.flatten())\n",
    "    \n",
    "    cd_cindex=cindex(cd_tests,cd_predictions)  #apply cindex function to true and predicted values\n",
    "    cd_cindex_scores.append(cd_cindex)\n",
    "    #print (\"Cd Cindex =\",cd_cindex,\"for k =\",ks)\n",
    "\n",
    "\n",
    "###### Pb ######\n",
    "pb_cindex_scores=[]\n",
    "for ks in k:\n",
    "    knn = KNeighborsRegressor(n_neighbors=ks)\n",
    "    target=[\"Pb\"]\n",
    "    pb_predictions=[]\n",
    "    pb_tests=[]\n",
    "    pbdf=water_zscore_DF[target+features]\n",
    "\n",
    "    #grouper function to add int numbered groups\n",
    "    grouper(pbdf,\"Pb\",\"group\")\n",
    "    myfolds=int(pbdf[target].nunique())\n",
    "\n",
    "    #because I added integer groups to dataframe, I can just iterate through the group numbers in a loop\n",
    "    for i in range(1,myfolds+1):\n",
    "        #get the test group\n",
    "        testgroup=pbdf[pbdf.group == i]\n",
    "        xtest=testgroup[features]\n",
    "        ytest=testgroup[target]\n",
    "        #get all other groups\n",
    "        traingroup=pbdf[pbdf.group != i]\n",
    "        xtrain=traingroup[features]\n",
    "        ytrain=traingroup[target]\n",
    "    \n",
    "        #train regressor\n",
    "        knn.fit(xtrain,ytrain)\n",
    "        #get predictions\n",
    "        ypred=knn.predict(np.array(xtest))\n",
    "        #extend true and predicted values onto the empty lists\n",
    "        pb_tests.extend(np.array(ytest).flatten())\n",
    "        pb_predictions.extend(ypred.flatten())\n",
    "    \n",
    "    pb_cindex=cindex(pb_tests,pb_predictions) #apply cindex function to true and predicted values\n",
    "    pb_cindex_scores.append(pb_cindex)\n",
    "    #print (\"Pb Cindex =\",pb_cindex,\"for k =\",ks)"
   ]
  },
  {
   "cell_type": "markdown",
   "metadata": {},
   "source": [
    "### K VS C-Index Plots"
   ]
  },
  {
   "cell_type": "code",
   "execution_count": 15,
   "metadata": {},
   "outputs": [
    {
     "data": {
      "image/png": "[encoded data removed]",
      "text/plain": [
       "<Figure size 864x576 with 1 Axes>"
      ]
     },
     "metadata": {
      "needs_background": "light"
     },
     "output_type": "display_data"
    },
    {
     "data": {
      "image/png": "[encoded data removed]",
      "text/plain": [
       "<Figure size 864x576 with 1 Axes>"
      ]
     },
     "metadata": {
      "needs_background": "light"
     },
     "output_type": "display_data"
    }
   ],
   "source": [
    "plt.figure(figsize=(12,8))\n",
    "plt.plot(k,ctotal_cindex_looscores,marker='o',label=\"C-Total\")\n",
    "plt.plot(k,cd_cindex_looscores,marker='o',label=\"Cd\")\n",
    "plt.plot(k,pb_cindex_looscores,marker='o',label=\"Pb\")\n",
    "plt.title('Leave-One-Out: K Vs C-Index',fontsize=20)\n",
    "plt.ylabel('C-Index',fontsize=16)\n",
    "plt.xlabel('Value of K',fontsize=16)\n",
    "plt.xticks(np.arange(1, 6, step=1))\n",
    "plt.legend()\n",
    "plt.show()\n",
    "\n",
    "plt.figure(figsize=(12,8))\n",
    "plt.plot(k,ctotal_cindex_scores,marker='o',label=\"C-Total\")\n",
    "plt.plot(k,cd_cindex_scores,marker='o',label=\"Cd\")\n",
    "plt.plot(k,pb_cindex_scores,marker='o',label=\"Pb\")\n",
    "plt.title('Leave-Replicas-Out: K Vs C-Index',fontsize=20)\n",
    "plt.ylabel('C-Index',fontsize=16)\n",
    "plt.xlabel('Value of K',fontsize=16)\n",
    "plt.xticks(np.arange(1, 6, step=1))\n",
    "plt.legend()\n",
    "plt.show()"
   ]
  },
  {
   "cell_type": "markdown",
   "metadata": {},
   "source": [
    "From the above plots you can see that for all 3 outputs LOOCV provided more optimistic results"
   ]
  },
  {
   "cell_type": "code",
   "execution_count": null,
   "metadata": {},
   "outputs": [],
   "source": []
  }
 ],
 "metadata": {
  "kernelspec": {
   "display_name": "Python 3",
   "language": "python",
   "name": "python3"
  },
  "language_info": {
   "codemirror_mode": {
    "name": "ipython",
    "version": 3
   },
   "file_extension": ".py",
   "mimetype": "text/x-python",
   "name": "python",
   "nbconvert_exporter": "python",
   "pygments_lexer": "ipython3",
   "version": "3.7.3"
  },
  "toc": {
   "base_numbering": 1,
   "nav_menu": {},
   "number_sections": false,
   "sideBar": true,
   "skip_h1_title": false,
   "title_cell": "Table of Contents",
   "title_sidebar": "Contents",
   "toc_cell": false,
   "toc_position": {},
   "toc_section_display": true,
   "toc_window_display": true
  },
  "varInspector": {
   "cols": {
    "lenName": 16,
    "lenType": 16,
    "lenVar": 40
   },
   "kernels_config": {
    "python": {
     "delete_cmd_postfix": "",
     "delete_cmd_prefix": "del ",
     "library": "var_list.py",
     "varRefreshCmd": "print(var_dic_list())"
    },
    "r": {
     "delete_cmd_postfix": ") ",
     "delete_cmd_prefix": "rm(",
     "library": "var_list.r",
     "varRefreshCmd": "cat(var_dic_list()) "
    }
   },
   "types_to_exclude": [
    "module",
    "function",
    "builtin_function_or_method",
    "instance",
    "_Feature"
   ],
   "window_display": false
  }
 },
 "nbformat": 4,
 "nbformat_minor": 2
}
