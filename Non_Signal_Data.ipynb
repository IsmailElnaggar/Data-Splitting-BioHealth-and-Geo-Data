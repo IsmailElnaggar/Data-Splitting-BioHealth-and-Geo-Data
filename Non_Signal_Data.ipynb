{
 "cells": [
  {
   "cell_type": "markdown",
   "metadata": {},
   "source": [
    "# Non-signal data exercise\n",
    "\n",
    "In this exercise you take on the role of a senior data analyst correcting mistakes made by a junior analyst. Your consulting company has received the MysteryData data set, and your goal is to build a classifier out of it, and evaluate how well the classifer works. You assigned the job to junior trainee Tux the Linux Penguin (who works for food).\n",
    "\n",
    "Tux is very excited to work on the data and has produced very promising results. What Tux does not yet know is that MysteryData is actually just random non-signal data where the features x and the class label y are independent of each other - it is not possible to learn anything meaningful from this data. Tux has never taken any of the UTU data analytics courses and has not noticed this. You should help Tux to correct the analyses, so you do not end up reporting incorrect results to your customers.\n",
    "\n",
    "You will write your answers inside this notebook. If all your answers are correct, your explanations thorough, and you solve the bonus questions, you will get a bonus point. Use written text, code, printouts or visualizations in you answers as needed. Return both this notebook filled (rename it lastname_firstname_studentid.ipynb), as well as a pdf export of the same notebook (same naming, but .pdf instead).\n",
    "\n",
    "The analysed problem is a binary classification task. We will follow the convention of using +1 to represent the positive class, and -1 the negative. In all but one task we will use area under ROC curve (AUC) to evaluate how well the classifier predicts. For binary classification tasks AUC and c-index are equivalent, 0.5 means random performance and 1.0 perfect predictions. The \"true\" AUC you would expect to see on a large enough sample of independent test data for any classifier trained on non-signal data is 0.5.\n",
    "\n",
    "Note that amount of samples, features, and class distribution for MysteryData can differ in different parts of the exercise (these are always written in comments above the code generating the data). Also, in one case there will be a data set on which it is possible to learn better than random classifier.\n",
    "\n",
    "Some notes on the codes:\n",
    "- we use predict_proba() instead of predict() when using AUC, because the predicted class probabilities are needed for computing AUC properly (predict() returns only +1/-1 values)\n",
    "- random seeds are fixed to guarantee that re-running the codes gives same results"
   ]
  },
  {
   "cell_type": "code",
   "execution_count": 1,
   "metadata": {},
   "outputs": [],
   "source": [
    "%matplotlib inline\n",
    "import numpy as np\n",
    "import pandas as pd\n",
    "import matplotlib.pyplot as plt\n",
    "\n",
    "#The data, trust me, you can't learn anything useful from this\n",
    "def load_mystery_data(samples, features, positives, random_seed):\n",
    "    #samples: sample size\n",
    "    #features: number of features\n",
    "    #positives: number of positive examples, positives <= samples\n",
    "    #random_seed: initializes the random generator\n",
    "    assert positives <= samples\n",
    "    rand_state = np.random.RandomState(random_seed)\n",
    "    #values in X are from normal distribution, with zero mean, unit variance, zero covariance\n",
    "    X = rand_state.randn(samples, features)\n",
    "    #y is a randomly shuffled vector of +1 and -1 values\n",
    "    y = np.hstack((np.ones(positives), -1.*np.ones(samples-positives)))\n",
    "    y = rand_state.permutation(y)\n",
    "    return X, y"
   ]
  },
  {
   "cell_type": "markdown",
   "metadata": {},
   "source": [
    "# Part 1: some elementary mistakes\n",
    "\n",
    "## Lesson 1.1: never trust your ----- set performance\n",
    "\n",
    "The first analysis done by Tux contains an obvious elementary mistake."
   ]
  },
  {
   "cell_type": "code",
   "execution_count": 2,
   "metadata": {},
   "outputs": [
    {
     "name": "stdout",
     "output_type": "stream",
     "text": [
      "I got area under ROC curve 0.885600\n",
      "Tux: \"I got very high AUC, problem solved!!\"\n"
     ]
    }
   ],
   "source": [
    "#100 samples, 100 features, 50 belong to positive class\n",
    "X, y = load_mystery_data(100, 100, 50, 2)\n",
    "\n",
    "#I am going to try knn on my data!!!\n",
    "from sklearn.neighbors import KNeighborsClassifier\n",
    "from sklearn.metrics import roc_auc_score\n",
    "\n",
    "\n",
    "learner = KNeighborsClassifier(n_neighbors=2)\n",
    "learner.fit(X, y)\n",
    "#get the estimated probability of belonging to class 1\n",
    "p = learner.predict_proba(X)[:,1]\n",
    "auc = roc_auc_score(y, p)\n",
    "print(\"I got area under ROC curve %f\" % auc)\n",
    "print('Tux: \"I got very high AUC, problem solved!!\"')"
   ]
  },
  {
   "cell_type": "markdown",
   "metadata": {},
   "source": [
    "## Question 1.1\n",
    "Why can't you trust the AUC result of Tux?\n"
   ]
  },
  {
   "cell_type": "markdown",
   "metadata": {},
   "source": [
    "## Write your answer to question 1.1 here:\n",
    "\n",
    "Tux isn't doing any kind of splitting of the data into test and training sets. Tux is using the same data used to train the model as test data."
   ]
  },
  {
   "cell_type": "markdown",
   "metadata": {},
   "source": [
    "## Lesson 1.2: trivial baselines\n",
    "\n",
    "The second analysis done by Tux is done a bit better, but analysis of results contains another elementary mistake."
   ]
  },
  {
   "cell_type": "code",
   "execution_count": 3,
   "metadata": {},
   "outputs": [
    {
     "name": "stdout",
     "output_type": "stream",
     "text": [
      "Classification accuracy: 0.900000\n",
      "Tux: \"I got 90% classification accuracy, problem solved!!\"\"\n",
      "0.5823895520865219\n"
     ]
    }
   ],
   "source": [
    "#1000 samples, 100 features, 100 belong to positive class\n",
    "X, y = load_mystery_data(1000, 100, 100, 1)\n",
    "\n",
    "#I am going to try knn on my data!!!\n",
    "from sklearn.neighbors import KNeighborsClassifier\n",
    "from sklearn.model_selection import train_test_split\n",
    "#Instead of AUC I will use classification accuracy!\n",
    "from sklearn.metrics import accuracy_score\n",
    "\n",
    "#Now I use a separate test set!\n",
    "X_train, X_test, y_train, y_test = train_test_split(X, y, test_size = 0.33, stratify=y, random_state=1)\n",
    "knn = KNeighborsClassifier(n_neighbors=10)\n",
    "knn.fit(X_train, y_train)\n",
    "p_test = knn.predict(X_test)\n",
    "accuracy = accuracy_score(y_test, p_test)\n",
    "print(\"Classification accuracy: %f\" %accuracy)\n",
    "print('Tux: \"I got 90% classification accuracy, problem solved!!\"\"')\n",
    "p2 = knn.predict_proba(X_test)[:,1]\n",
    "auc2 = roc_auc_score(y_test, p2)\n",
    "print(auc2)"
   ]
  },
  {
   "cell_type": "markdown",
   "metadata": {},
   "source": [
    "## Question 1.2\n",
    "1. Does the high classification accuracy really mean that this is a good predictor?\n",
    "2. Look at the test set predictions in p_test, what has this classifier actually learned?\n",
    "3. What would the results look like if you used AUC instead of classification accuracy?"
   ]
  },
  {
   "cell_type": "markdown",
   "metadata": {},
   "source": [
    "## Write your answer to question 1.2 here\n",
    "1. The high accuracy rate only means that this model is a good predictor for this specific test split because no cross validation is implemented.\n",
    "\n",
    "\n",
    "2. Because there are only 100 positive labels out of 1000 samples, it seems that the classifier has gotten a 90% score by just classifying all labels as the negative class.\n",
    "\n",
    "\n",
    "3. The AUC is .5623 which is poor."
   ]
  },
  {
   "cell_type": "markdown",
   "metadata": {},
   "source": [
    "# Part 2: introduction to permutation tests\n",
    "\n",
    "Next, we are using permutation tests to estimate, how likely we are to see AUC values as high as observed, if y is independent of x (non-signal data).\n",
    "\n",
    "The test is implemented as follows:\n",
    "- let AUC_original be the AUC obtained in the original analysis\n",
    "- For 1000 (or preferably more if you have enough CPU time to use) repetitions, shuffle the labels in y, then run the analysis again and compute the AUC value. Store all 1000 AUC values in a list.\n",
    "- Visualization: visualize the permutation distribution by plotting a histogram of the 1000 AUC values. Does AUC_original look like an outlier, or do you often get as good or better results with permuted class labels?\n",
    "- p-value: relative fraction of runs, where obtained AUC $\\geq$ AUC_original\n",
    "- example: AUC with original class labeling is 0.6. In 70 runs out of 1000, we obtain as high as or larger AUC. p-value is then $\\frac{70}{1000} = 0.07$ \n",
    "- result is considered statistically significant, if $p<\\alpha$, where $\\alpha$ a pre-specified significance level (often $\\alpha=0.05$ or $\\alpha=0.01$). Statistical significance does not mean that the results are good, only that the classifier has likely learned something from the data. In the following experiments, use $\\alpha=0.05$.\n",
    "\n",
    "## Lesson 2.1: sample size\n",
    "\n",
    "Tux is now analyzing a small data set with 5-fold cross-validation. "
   ]
  },
  {
   "cell_type": "code",
   "execution_count": 4,
   "metadata": {},
   "outputs": [
    {
     "name": "stdout",
     "output_type": "stream",
     "text": [
      "AUC: 0.700000\n",
      "Tux: \"I did proper cross-validation and got better than random results. My classifier learned something!!\"\n"
     ]
    }
   ],
   "source": [
    "#20 samples, 10 features, 10 belong to positive class\n",
    "X, y = load_mystery_data(20, 10, 10, 10)\n",
    "\n",
    "from sklearn.neighbors import KNeighborsClassifier\n",
    "from sklearn.model_selection import StratifiedKFold\n",
    "from sklearn.metrics import roc_auc_score\n",
    "\n",
    "cv = StratifiedKFold(n_splits=5)\n",
    "cv_aucs = []\n",
    "for train, test in cv.split(X, y):\n",
    "    X_train = X[train]\n",
    "    y_train = y[train]\n",
    "    X_test = X[test]\n",
    "    y_test = y[test]\n",
    "    knn = KNeighborsClassifier(n_neighbors=3)\n",
    "    knn.fit(X_train, y_train)\n",
    "    p_test = knn.predict_proba(X_test)[:,1]\n",
    "    auc = roc_auc_score(y_test, p_test)\n",
    "    cv_aucs.append(auc)\n",
    "auc = np.mean(cv_aucs)\n",
    "print(\"AUC: %f\" %auc)\n",
    "print('Tux: \"I did proper cross-validation and got better than random results. My classifier learned something!!\"')"
   ]
  },
  {
   "cell_type": "markdown",
   "metadata": {},
   "source": [
    "## Question 2.1\n",
    "Implement a permutation test for the above analysis, are these results statistically significant with $\\alpha=0.05$? Provide both visualization of the permutation distribution, as well as the p-value."
   ]
  },
  {
   "cell_type": "code",
   "execution_count": 5,
   "metadata": {},
   "outputs": [],
   "source": [
    "size = 1000\n",
    "AUC_original = 0.7\n",
    "\n",
    "auc_perms21 = []\n",
    "for i in range(size):\n",
    "    y = np.random.permutation(y)\n",
    "    cv = StratifiedKFold(n_splits=5)\n",
    "    cv_aucs = []\n",
    "    for train, test in cv.split(X, y):\n",
    "        X_train = X[train]\n",
    "        y_train = y[train]\n",
    "        X_test = X[test]\n",
    "        y_test = y[test]\n",
    "        knn = KNeighborsClassifier(n_neighbors=3)\n",
    "        knn.fit(X_train, y_train)\n",
    "        p_test = knn.predict_proba(X_test)[:,1]\n",
    "        auc = roc_auc_score(y_test, p_test)\n",
    "        cv_aucs.append(auc)\n",
    "    auc_perms21.append(np.mean(cv_aucs))"
   ]
  },
  {
   "cell_type": "code",
   "execution_count": 6,
   "metadata": {},
   "outputs": [
    {
     "name": "stdout",
     "output_type": "stream",
     "text": [
      "The P-Value = 0.103\n"
     ]
    },
    {
     "data": {
      "image/png": "[encoded data removed]",
      "text/plain": [
       "<Figure size 864x648 with 1 Axes>"
      ]
     },
     "metadata": {
      "needs_background": "light"
     },
     "output_type": "display_data"
    }
   ],
   "source": [
    "counter = 0\n",
    "for pauc in auc_perms21:\n",
    "    if pauc >= AUC_original:\n",
    "        counter += 1\n",
    "p_value = counter / size\n",
    "print(\"The P-Value =\", p_value)\n",
    "\n",
    "plt.figure(figsize=(12,9))\n",
    "plt.hist(auc_perms21, 20, color=\"blue\", ec=\"black\")\n",
    "plt.title(\"Permutation distribution (KNN, k=3, 5-fold Stratified CV)\", fontsize=18)\n",
    "plt.axvline(AUC_original, color=\"red\", lw=3, label=\"Original AUC\")\n",
    "plt.xticks(np.arange(0,1.1,.1))\n",
    "plt.legend(fontsize=14)\n",
    "plt.show()\n"
   ]
  },
  {
   "cell_type": "markdown",
   "metadata": {},
   "source": [
    "Results are not statistically significant with 𝛼=0.05 because P-Value > 𝛼\n"
   ]
  },
  {
   "cell_type": "markdown",
   "metadata": {},
   "source": [
    "## Lesson 2.2: sample size again\n",
    "\n",
    "Let's give poor Tux a better data set that actually has clear difference between the classes and see how things work out. (on this data it is possible to obtain true AUC larger than 0.5)"
   ]
  },
  {
   "cell_type": "code",
   "execution_count": 7,
   "metadata": {},
   "outputs": [],
   "source": [
    "def load_new_mystery_data(samples, features, positives, random_seed):\n",
    "    #samples: sample size\n",
    "    #features: number of positive examples, positives <= samples\n",
    "    #random_seed: initializes the random generator\n",
    "    assert positives <= samples\n",
    "    rand_state = np.random.RandomState(random_seed)\n",
    "    #values in X are from normal distribution, with zero mean, unit variance, zero covariance\n",
    "    X_pos = rand_state.randn(positives, features)\n",
    "    X_neg = rand_state.randn(samples-positives, features)+0.65\n",
    "    X = np.vstack((X_pos, X_neg))\n",
    "    #y is a randomly shuffled vector of +1 and -1 values\n",
    "    y = np.hstack((np.ones(positives), -1.*np.ones(samples-positives)))\n",
    "    I = rand_state.permutation(samples)\n",
    "    X = X[I]\n",
    "    y = y[I]\n",
    "    return X, y"
   ]
  },
  {
   "cell_type": "code",
   "execution_count": 8,
   "metadata": {},
   "outputs": [
    {
     "name": "stdout",
     "output_type": "stream",
     "text": [
      "AUC: 0.875000\n",
      "Tux: \"Not sure if I can trust the results anymore, my data set is really small! Please help me compute the p-value!!\"\n"
     ]
    }
   ],
   "source": [
    "#20 samples, 10 features, 10 belong to positive class\n",
    "X, y = load_new_mystery_data(20, 10, 10, 10)\n",
    "\n",
    "from sklearn.neighbors import KNeighborsClassifier\n",
    "from sklearn.model_selection import StratifiedKFold\n",
    "from sklearn.metrics import roc_auc_score\n",
    "\n",
    "cv = StratifiedKFold(n_splits=5)\n",
    "cv_aucs = []\n",
    "for train, test in cv.split(X, y):\n",
    "    X_train = X[train]\n",
    "    y_train = y[train]\n",
    "    X_test = X[test]\n",
    "    y_test = y[test]\n",
    "    knn = KNeighborsClassifier(n_neighbors=3)\n",
    "    knn.fit(X_train, y_train)\n",
    "    p_test = knn.predict_proba(X_test)[:,1]\n",
    "    auc = roc_auc_score(y_test, p_test)\n",
    "    cv_aucs.append(auc)\n",
    "cv_auc = np.mean(cv_aucs)\n",
    "print(\"AUC: %f\" %cv_auc)\n",
    "print('Tux: \"Not sure if I can trust the results anymore, my data set is really small! Please help me compute the p-value!!\"')"
   ]
  },
  {
   "cell_type": "markdown",
   "metadata": {},
   "source": [
    "## Question 2.2\n",
    "Implement a permutation test for the above analysis, are these results statistically significant with $\\alpha=0.05$? Provide both visualization of the permutation distribution, as well as the p-value.\n",
    "\n"
   ]
  },
  {
   "cell_type": "code",
   "execution_count": 9,
   "metadata": {},
   "outputs": [],
   "source": [
    "AUC_original = 0.875\n",
    "auc_perms22 = []\n",
    "\n",
    "for i in range(size):\n",
    "    y = np.random.permutation(y)\n",
    "    cv = StratifiedKFold(n_splits=5)\n",
    "    cv_aucs = []\n",
    "    for train, test in cv.split(X, y):\n",
    "        X_train = X[train]\n",
    "        y_train = y[train]\n",
    "        X_test = X[test]\n",
    "        y_test = y[test]\n",
    "        knn = KNeighborsClassifier(n_neighbors=3)\n",
    "        knn.fit(X_train, y_train)\n",
    "        p_test = knn.predict_proba(X_test)[:,1]\n",
    "        auc = roc_auc_score(y_test, p_test)\n",
    "        cv_aucs.append(auc)\n",
    "    auc_perms22.append(np.mean(cv_aucs))"
   ]
  },
  {
   "cell_type": "code",
   "execution_count": 10,
   "metadata": {},
   "outputs": [
    {
     "name": "stdout",
     "output_type": "stream",
     "text": [
      "p-value is 0.003\n"
     ]
    },
    {
     "data": {
      "image/png": "[encoded data removed]",
      "text/plain": [
       "<Figure size 864x648 with 1 Axes>"
      ]
     },
     "metadata": {
      "needs_background": "light"
     },
     "output_type": "display_data"
    }
   ],
   "source": [
    "counter = 0\n",
    "for pauc in auc_perms22:\n",
    "    if pauc >= AUC_original:\n",
    "        counter += 1\n",
    "p_value = counter / size\n",
    "print(\"p-value is\", p_value)\n",
    "\n",
    "plt.figure(figsize=(12,9))\n",
    "plt.hist(auc_perms22, 20, color=\"blue\", ec=\"black\")\n",
    "plt.title(\"Permutation distribution (KNN, k=3, 5-fold CV)\", fontsize=18)\n",
    "plt.xticks(np.arange(0,1.1,.1))\n",
    "plt.axvline(AUC_original, color=\"red\", lw=3, label=\"Original AUC\")\n",
    "plt.legend(fontsize=14)\n",
    "plt.show()\n"
   ]
  },
  {
   "cell_type": "markdown",
   "metadata": {},
   "source": [
    "1. Yes these results are significant with a p-value of 0.003 < 0.05\n",
    "\n",
    "2. we can reject the null hypothesis with signiﬁcance level α\n",
    "\n",
    "3. Strong evidence that the classiﬁer learned from the data\n"
   ]
  },
  {
   "cell_type": "markdown",
   "metadata": {},
   "source": [
    "# Part 3: mis-using feature selection\n",
    "\n",
    "Here is a very simple correlation based feature selection method"
   ]
  },
  {
   "cell_type": "code",
   "execution_count": 11,
   "metadata": {},
   "outputs": [],
   "source": [
    "from scipy.stats import kendalltau\n",
    "\n",
    "def select(X, Y, scount):\n",
    "    #select scount features from X with highest correlation with Y\n",
    "    correlations = []\n",
    "    for i in range(X.shape[1]):\n",
    "        corr = kendalltau(X[:,i], Y)[0]\n",
    "        correlations.append(np.abs(corr))\n",
    "    correlations = np.array(correlations)\n",
    "    I = np.argsort(correlations)\n",
    "    I = I[::-1]\n",
    "    return I[:scount]"
   ]
  },
  {
   "cell_type": "code",
   "execution_count": 12,
   "metadata": {},
   "outputs": [
    {
     "name": "stdout",
     "output_type": "stream",
     "text": [
      "Tux: \"My CV-AUC before feature selection is 0.496000\"\n",
      "Tux: \"My CV-AUC after feature selection is 0.808000, it really works!!\"\n"
     ]
    }
   ],
   "source": [
    "#50 samples, 1000 features, 25 belong to positive class\n",
    "X, y = load_mystery_data(50, 1000, 25, 1)\n",
    "\n",
    "from sklearn.neighbors import KNeighborsClassifier\n",
    "from sklearn.model_selection import StratifiedKFold\n",
    "from sklearn.metrics import roc_auc_score\n",
    "\n",
    "\n",
    "cv = StratifiedKFold(n_splits=5)\n",
    "cv_aucs = []\n",
    "for train, test in cv.split(X, y):\n",
    "    X_train = X[train]\n",
    "    y_train = y[train]\n",
    "    X_test = X[test]\n",
    "    y_test = y[test]\n",
    "    knn = KNeighborsClassifier(n_neighbors=3)\n",
    "    knn.fit(X_train, y_train)\n",
    "    p_test = knn.predict_proba(X_test)[:,1]\n",
    "    auc = roc_auc_score(y_test, p_test)\n",
    "    cv_aucs.append(auc)\n",
    "cv_auc = np.mean(cv_aucs)\n",
    "print('Tux: \"My CV-AUC before feature selection is %f\"' %cv_auc)\n",
    "\n",
    "\n",
    "#I'm going to improve my AUC with feature selection!!!\n",
    "I = select(X, y, 5)\n",
    "X_fs = X[:,I]\n",
    "cv_aucs = []\n",
    "for train, test in cv.split(X_fs, y):\n",
    "    X_train = X_fs[train]\n",
    "    y_train = y[train]\n",
    "    X_test = X_fs[test]\n",
    "    y_test = y[test]\n",
    "    knn = KNeighborsClassifier(n_neighbors=3)\n",
    "    knn.fit(X_train, y_train)\n",
    "    p_test = knn.predict_proba(X_test)[:,1]\n",
    "    auc = roc_auc_score(y_test, p_test)\n",
    "    cv_aucs.append(auc)\n",
    "cv_auc = np.mean(cv_aucs)\n",
    "print('Tux: \"My CV-AUC after feature selection is %f, it really works!!\"' %cv_auc)"
   ]
  },
  {
   "cell_type": "markdown",
   "metadata": {},
   "source": [
    "## Question 3.1\n",
    "\n",
    "It is possible to implement a permutation test for the (incorrect) combination of feature selection and cross-validation Tux has implemented here. Simply run the flawed analysis for 1000 random permutations of y. \n",
    "\n",
    "Use permutation test to show Tux that the feature selection based classification approach is actually not learning anything from the data ($\\alpha=0.05$, provide both visualization of the permutation distribution, as well as the p-value). Running the test may take a while. Analyse what is going on here, why did the results look so good?"
   ]
  },
  {
   "cell_type": "code",
   "execution_count": 14,
   "metadata": {},
   "outputs": [],
   "source": [
    "AUC_original = 0.808\n",
    "auc_perms31 = []\n",
    "size=1000\n",
    "for i in range(size):\n",
    "    y = np.random.permutation(y)\n",
    "    I = select(X, y, 5)\n",
    "    X_fs = X[:,I]\n",
    "    cv_aucs = []\n",
    "    for train, test in cv.split(X_fs, y):\n",
    "        X_train = X_fs[train]\n",
    "        y_train = y[train]\n",
    "        X_test = X_fs[test]\n",
    "        y_test = y[test]\n",
    "        knn = KNeighborsClassifier(n_neighbors=3)\n",
    "        knn.fit(X_train, y_train)\n",
    "        p_test = knn.predict_proba(X_test)[:,1]\n",
    "        auc = roc_auc_score(y_test, p_test)\n",
    "        cv_aucs.append(auc)\n",
    "    auc_perms31.append(np.mean(cv_aucs))"
   ]
  },
  {
   "cell_type": "code",
   "execution_count": 15,
   "metadata": {},
   "outputs": [
    {
     "name": "stdout",
     "output_type": "stream",
     "text": [
      "p-value is 0.651\n"
     ]
    },
    {
     "data": {
      "image/png": "[encoded data removed]",
      "text/plain": [
       "<Figure size 864x648 with 1 Axes>"
      ]
     },
     "metadata": {
      "needs_background": "light"
     },
     "output_type": "display_data"
    }
   ],
   "source": [
    "AUC_original = 0.808\n",
    "counter = 0\n",
    "for pauc in auc_perms31:\n",
    "    if pauc >= AUC_original:\n",
    "        counter += 1\n",
    "p_value = counter / size\n",
    "print(\"p-value is\", p_value)\n",
    "\n",
    "plt.figure(figsize=(12,9))\n",
    "plt.hist(auc_perms31, 20, color=\"blue\", ec=\"black\")\n",
    "plt.title(\"Permutation distribution (KNN, k=3, 5-fold CV, feature selection)\", fontsize=18)\n",
    "plt.axvline(AUC_original, color=\"red\", lw=3, label=\"Original AUC\")\n",
    "plt.xticks(np.arange(0,1.1,.1))\n",
    "plt.legend(fontsize=14)\n",
    "plt.show()\n"
   ]
  },
  {
   "cell_type": "markdown",
   "metadata": {},
   "source": [
    "P value greater than 0.05 so no nothing has been learned in this model"
   ]
  },
  {
   "cell_type": "markdown",
   "metadata": {},
   "source": [
    "## Question 3.2 (bonus exercise)\n",
    "\n",
    "Correct the bias in above example by combining feature selection properly with cross-validation, run the experiment again. Do also a permutation test for this experiment with as many permutations as you can afford in a reasonable amount of time."
   ]
  },
  {
   "cell_type": "code",
   "execution_count": 16,
   "metadata": {},
   "outputs": [
    {
     "name": "stdout",
     "output_type": "stream",
     "text": [
      "0.78\n"
     ]
    }
   ],
   "source": [
    "cv = StratifiedKFold(n_splits=5)\n",
    "cv_aucs = []\n",
    "for train, test in cv.split(X, y):\n",
    "    I = select(X, y, 5)\n",
    "    X_fs= X[:,I]\n",
    "    X_train = X_fs[train]\n",
    "    y_train = y[train]\n",
    "    X_test = X_fs[test]\n",
    "    y_test = y[test]\n",
    "    knn = KNeighborsClassifier(n_neighbors=3)\n",
    "    knn.fit(X_train, y_train)\n",
    "    p_test = knn.predict_proba(X_test)[:,1]\n",
    "    auc = roc_auc_score(y_test, p_test)\n",
    "    cv_aucs.append(auc)\n",
    "cv_auc = np.mean(cv_aucs)\n",
    "\n",
    "print(cv_auc)\n",
    "### doing 350 permutations because it was taking so long to finish running\n",
    "auc_perms32 = []\n",
    "for i in range(350):\n",
    "    y = np.random.permutation(y)\n",
    "    cv_aucs = []\n",
    "    for train, test in cv.split(X, y):\n",
    "        I = select(X, y, 5)\n",
    "        X_fs= X[:,I]\n",
    "        X_train = X_fs[train]\n",
    "        y_train = y[train]\n",
    "        X_test = X_fs[test]\n",
    "        y_test = y[test]\n",
    "        knn = KNeighborsClassifier(n_neighbors=3)\n",
    "        knn.fit(X_train, y_train)\n",
    "        p_test = knn.predict_proba(X_test)[:,1]\n",
    "        auc = roc_auc_score(y_test, p_test)\n",
    "        cv_aucs.append(auc)\n",
    "    auc_perms32.append(np.mean(cv_aucs))"
   ]
  },
  {
   "cell_type": "code",
   "execution_count": 17,
   "metadata": {},
   "outputs": [
    {
     "name": "stdout",
     "output_type": "stream",
     "text": [
      "CV score = 0.78\n"
     ]
    }
   ],
   "source": [
    "print (\"CV score = 0.78\")"
   ]
  },
  {
   "cell_type": "code",
   "execution_count": 21,
   "metadata": {},
   "outputs": [
    {
     "name": "stdout",
     "output_type": "stream",
     "text": [
      "p-value is 0.237\n"
     ]
    },
    {
     "data": {
      "image/png": "[encoded data removed]",
      "text/plain": [
       "<Figure size 864x648 with 1 Axes>"
      ]
     },
     "metadata": {
      "needs_background": "light"
     },
     "output_type": "display_data"
    }
   ],
   "source": [
    "counter = 0\n",
    "for pauc in auc_perms32:\n",
    "    if pauc >= AUC_original:\n",
    "        counter += 1\n",
    "p_value = counter / size\n",
    "print(\"p-value is\", p_value)\n",
    "\n",
    "\n",
    "plt.figure(figsize=(12,9))\n",
    "plt.hist(auc_perms32, 20, color=\"blue\", ec=\"black\")\n",
    "plt.xticks(np.arange(0,1.1,.1))\n",
    "plt.title(\"Permutation distribution (KNN, k=3, 5-fold CV with feature selection)\", fontsize=18)\n",
    "plt.axvline(AUC_original, color=\"red\", lw=3, label=\"Original AUC\")\n",
    "plt.xticks(np.arange(0,1.1,.1))\n",
    "plt.legend(fontsize=14)\n",
    "plt.show()\n",
    "\n"
   ]
  },
  {
   "cell_type": "code",
   "execution_count": null,
   "metadata": {},
   "outputs": [],
   "source": []
  }
 ],
 "metadata": {
  "kernelspec": {
   "display_name": "Python 3",
   "language": "python",
   "name": "python3"
  },
  "language_info": {
   "codemirror_mode": {
    "name": "ipython",
    "version": 3
   },
   "file_extension": ".py",
   "mimetype": "text/x-python",
   "name": "python",
   "nbconvert_exporter": "python",
   "pygments_lexer": "ipython3",
   "version": "3.7.3"
  },
  "toc": {
   "base_numbering": 1,
   "nav_menu": {},
   "number_sections": true,
   "sideBar": true,
   "skip_h1_title": false,
   "title_cell": "Table of Contents",
   "title_sidebar": "Contents",
   "toc_cell": false,
   "toc_position": {},
   "toc_section_display": true,
   "toc_window_display": false
  },
  "varInspector": {
   "cols": {
    "lenName": 16,
    "lenType": 16,
    "lenVar": 40
   },
   "kernels_config": {
    "python": {
     "delete_cmd_postfix": "",
     "delete_cmd_prefix": "del ",
     "library": "var_list.py",
     "varRefreshCmd": "print(var_dic_list())"
    },
    "r": {
     "delete_cmd_postfix": ") ",
     "delete_cmd_prefix": "rm(",
     "library": "var_list.r",
     "varRefreshCmd": "cat(var_dic_list()) "
    }
   },
   "types_to_exclude": [
    "module",
    "function",
    "builtin_function_or_method",
    "instance",
    "_Feature"
   ],
   "window_display": false
  }
 },
 "nbformat": 4,
 "nbformat_minor": 2
}
